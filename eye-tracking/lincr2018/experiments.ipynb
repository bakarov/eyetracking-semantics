{
 "cells": [
  {
   "cell_type": "code",
   "execution_count": 1,
   "metadata": {
    "ExecuteTime": {
     "end_time": "2018-03-02T11:03:06.142333Z",
     "start_time": "2018-03-02T11:03:03.345239Z"
    }
   },
   "outputs": [],
   "source": [
    "from pandas import DataFrame, read_csv, concat, options\n",
    "from csv import reader\n",
    "from numpy import mean, array, zeros, errstate, seterr, isfinite, random\n",
    "from collections import defaultdict\n",
    "from scipy.spatial.distance import cosine\n",
    "from scipy.spatial import KDTree\n",
    "from scipy.stats import spearmanr\n",
    "from os import path\n",
    "from gensim.models import KeyedVectors, Word2Vec\n",
    "from pymorphy2 import MorphAnalyzer\n",
    "from itertools import product\n",
    "import string\n",
    "\n",
    "from sklearn.metrics import mean_squared_error\n",
    "from sklearn.model_selection import train_test_split\n",
    "from sklearn.linear_model import Ridge\n",
    "from sklearn.preprocessing import normalize, MinMaxScaler\n",
    "\n",
    "from nltk.tag import pos_tag, map_tag\n",
    "\n",
    "translator = str.maketrans('', '', string.punctuation)\n",
    "morph = MorphAnalyzer()\n",
    "seterr(all='raise')\n",
    "\n",
    "import numpy as np\n",
    "\n",
    "options.mode.chained_assignment = None"
   ]
  },
  {
   "cell_type": "markdown",
   "metadata": {},
   "source": [
    "Serialize transformed dataset"
   ]
  },
  {
   "cell_type": "code",
   "execution_count": 2,
   "metadata": {
    "ExecuteTime": {
     "end_time": "2018-03-02T11:03:06.253735Z",
     "start_time": "2018-03-02T11:03:06.147165Z"
    }
   },
   "outputs": [],
   "source": [
    "rsc = 'rsc'\n",
    "provo = 'provo'\n",
    "geco = 'geco'\n",
    "\n",
    "eye_tracking_datasets = [rsc, provo, geco]\n",
    "eye_tracking_data = {}\n",
    "\n",
    "for dataset in eye_tracking_datasets:\n",
    "    eye_tracking_data[dataset] = read_csv(path.join('data', 'eye-tracking', '{}.csv'.format(dataset)))"
   ]
  },
  {
   "cell_type": "markdown",
   "metadata": {},
   "source": [
    "Loading and processing dataset of human judgements of embeddings"
   ]
  },
  {
   "cell_type": "code",
   "execution_count": 3,
   "metadata": {
    "ExecuteTime": {
     "end_time": "2018-03-02T11:03:06.309321Z",
     "start_time": "2018-03-02T11:03:06.255240Z"
    }
   },
   "outputs": [],
   "source": [
    "datasets = ['men',\n",
    "            'mc-30',\n",
    "            'rg-65',\n",
    "            'rw',\n",
    "            'yp-130',\n",
    "            'verb-143',\n",
    "            'mturk-771',\n",
    "            'mturk-287',\n",
    "            'simlex',\n",
    "            'wordsim353-similarity',\n",
    "            'wordsim353-relatedness',\n",
    "             'simverb-3500',\n",
    "             'semeval17']\n",
    "\n",
    "languages = ['en', 'ru']"
   ]
  },
  {
   "cell_type": "code",
   "execution_count": 4,
   "metadata": {
    "ExecuteTime": {
     "end_time": "2018-03-02T11:03:06.433000Z",
     "start_time": "2018-03-02T11:03:06.341098Z"
    }
   },
   "outputs": [],
   "source": [
    "word_similarity = defaultdict(lambda: {})\n",
    "\n",
    "for dataset in datasets:\n",
    "    for language in languages:\n",
    "        if language == 'ru' and dataset not in [ 'wordsim353-similarity', 'wordsim353-relatedness', 'simlex', 'mc-30', 'rg-65']:\n",
    "            continue\n",
    "        word_similarity[language][dataset] = read_csv(path.join('data', 'word-similarity', language, '{}.csv'.format(dataset))) "
   ]
  },
  {
   "cell_type": "code",
   "execution_count": 5,
   "metadata": {
    "ExecuteTime": {
     "end_time": "2018-03-02T11:07:07.734865Z",
     "start_time": "2018-03-02T11:03:06.434495Z"
    }
   },
   "outputs": [],
   "source": [
    "word2vec_ru_ruscorpora = KeyedVectors.load_word2vec_format(path.join('data', 'models', 'ruwikiruscorpora-superbigrams_skipgram_300_2_2018.vec'))\n",
    "word2vec_ru_araneum = KeyedVectors.load_word2vec_format(path.join('data', 'models', 'araneum_upos_skipgram_300_2_2018.vec'))"
   ]
  },
  {
   "cell_type": "code",
   "execution_count": 6,
   "metadata": {
    "ExecuteTime": {
     "end_time": "2018-03-02T11:08:27.436651Z",
     "start_time": "2018-03-02T11:07:07.736823Z"
    }
   },
   "outputs": [],
   "source": [
    "word2vec_en_googlenews = KeyedVectors.load_word2vec_format(path.join('data',  'models', 'googlenews.bin'), binary=True)\n",
    "word2vec_en_bnc = KeyedVectors.load_word2vec_format(path.join('data',  'models', 'bnc.vec'))"
   ]
  },
  {
   "cell_type": "markdown",
   "metadata": {},
   "source": [
    "# Functions"
   ]
  },
  {
   "cell_type": "code",
   "execution_count": 7,
   "metadata": {
    "ExecuteTime": {
     "end_time": "2018-03-02T11:08:27.458609Z",
     "start_time": "2018-03-02T11:08:27.438369Z"
    }
   },
   "outputs": [],
   "source": [
    "def add_pos_tag(word, lang='ru'):\n",
    "    if lang == 'en':\n",
    "        word = str(word)\n",
    "        tagged = [(w, map_tag('en-ptb', 'universal', tag)) for w, tag in pos_tag([word])][0]\n",
    "        return '{}_{}'.format(tagged[0], tagged[1])\n",
    "    tag = str(morph.parse(word)[0].tag.POS)\n",
    "    if tag == 'ADJF':\n",
    "        tag = 'ADJ'\n",
    "    elif tag == 'INFN':\n",
    "        tag = 'VERB'\n",
    "    if word == 'объем': \n",
    "        tag = 'NOUN'\n",
    "    if word == 'струя':\n",
    "        tag = 'NOUN'\n",
    "    if word == 'чай':\n",
    "        tag = 'NOUN'\n",
    "    if word == 'два':\n",
    "        word = 'двадцать'\n",
    "        tag = 'NUM'\n",
    "    return '{}_{}'.format(word, tag)"
   ]
  },
  {
   "cell_type": "code",
   "execution_count": 8,
   "metadata": {
    "ExecuteTime": {
     "end_time": "2018-03-02T11:08:27.582305Z",
     "start_time": "2018-03-02T11:08:27.460272Z"
    }
   },
   "outputs": [],
   "source": [
    "def load_sim_dataset(df_, embeddings, rusvectores=False, lang='ru'):\n",
    "    df = df_.copy()\n",
    "    old_len = len(df)\n",
    "    for i, m in df.iterrows():\n",
    "        if not rusvectores:\n",
    "            if m['word1'] not in embeddings or m['word2'] not in embeddings:\n",
    "                df.drop(i, inplace=True)\n",
    "        else:\n",
    "            if add_pos_tag(m['word1'], lang) not in embeddings or add_pos_tag(m['word2'], lang) not in embeddings:\n",
    "                df.drop(i, inplace=True)\n",
    "    return df.reset_index(drop=True), (old_len - len(df))/old_len*100, len(df)"
   ]
  },
  {
   "cell_type": "code",
   "execution_count": 9,
   "metadata": {
    "ExecuteTime": {
     "end_time": "2018-03-02T11:08:27.689005Z",
     "start_time": "2018-03-02T11:08:27.584287Z"
    }
   },
   "outputs": [],
   "source": [
    "def make_sims_dataset(dataset, embeddings, rusvectores=False, lang='en'):\n",
    "    sims = zeros(shape=len(dataset), dtype='float32')\n",
    "    for i, m in dataset.iterrows():\n",
    "        if not rusvectores:\n",
    "            sims[i] = 1 - cosine(embeddings[m['word1']], embeddings[m['word2']])\n",
    "        else:\n",
    "            sims[i] = 1 - cosine(embeddings[add_pos_tag(m['word1'], lang)], embeddings[add_pos_tag(m['word2'], lang)])\n",
    "    return sims"
   ]
  },
  {
   "cell_type": "code",
   "execution_count": 10,
   "metadata": {
    "ExecuteTime": {
     "end_time": "2018-03-02T11:08:27.866809Z",
     "start_time": "2018-03-02T11:08:27.691625Z"
    }
   },
   "outputs": [],
   "source": [
    "def make_word2vec_dataset(dataset, model):\n",
    "    sims = zeros(shape=len(dataset), dtype='float32')\n",
    "    for i, m in dataset.iterrows():\n",
    "        sims[i] = 1 - cosine(model[add_pos_tag(m['word1'])], model[add_pos_tag(m['word2'])])\n",
    "    return sims"
   ]
  },
  {
   "cell_type": "code",
   "execution_count": 11,
   "metadata": {
    "ExecuteTime": {
     "end_time": "2018-03-02T11:08:27.970259Z",
     "start_time": "2018-03-02T11:08:27.869599Z"
    }
   },
   "outputs": [],
   "source": [
    "def make_word2vec_eye_dataset(dataset, model, lang='ru', pos_tags=False):\n",
    "    pairs = list(product(dataset, repeat=2))\n",
    "    sims_w2v = zeros(shape=len(pairs), dtype='float32')\n",
    "    sims_eye = zeros(shape=len(pairs), dtype='float32')\n",
    "    for i in enumerate(pairs):\n",
    "        try:\n",
    "            if lang == 'en':\n",
    "                if pos_tags:\n",
    "                    sims_w2v[i[0]] = 1 - cosine(model[add_pos_tag(i[1][0], lang)], model[add_pos_tag(i[1][1], lang)])\n",
    "                    sims_eye[i[0]] = 1 - cosine(dataset[i[1][0]], dataset[i[1][1]])\n",
    "                else:\n",
    "                    sims_w2v[i[0]] = 1 - cosine(model[i[1][0]], model[i[1][1]])\n",
    "                    sims_eye[i[0]] = 1 - cosine(dataset[i[1][0]], dataset[i[1][1]])\n",
    "            else: # add pos tags\n",
    "                sims_w2v[i[0]] = 1 - cosine(model[add_pos_tag(i[1][0])], model[add_pos_tag(i[1][1])])\n",
    "                sims_eye[i[0]] = 1 - cosine(dataset[i[1][0]], dataset[i[1][1]])\n",
    "        except KeyError:\n",
    "            continue\n",
    "    return sims_w2v, sims_eye"
   ]
  },
  {
   "cell_type": "markdown",
   "metadata": {},
   "source": [
    "# Correlation with word similarity"
   ]
  },
  {
   "cell_type": "code",
   "execution_count": 13,
   "metadata": {
    "ExecuteTime": {
     "end_time": "2018-03-02T11:18:08.829806Z",
     "start_time": "2018-03-02T11:18:02.540527Z"
    }
   },
   "outputs": [],
   "source": [
    "results_ru = {'RSC': {}, 'Ruswikicorpora': {}, 'Aranea': {}}\n",
    "dropped_ru = {'RSC': {}, 'Ruswikicorpora': {}, 'Aranea': {}}\n",
    "\n",
    "eye_embeddings_rsc = {}\n",
    "\n",
    "for i, k in eye_tracking_data[rsc].iloc[:,2:len(eye_tracking_data[rsc].columns)].iterrows():\n",
    "    normalized = eye_tracking_data[rsc].loc[:,'average.accuracy':].apply(lambda x: normalize(x[:,np.newaxis], axis=0).ravel())\n",
    "    x = normalized.values \n",
    "    min_max_scaler = MinMaxScaler()\n",
    "    x_scaled = min_max_scaler.fit_transform(x)\n",
    "    x = DataFrame(x_scaled)\n",
    "    eye_embeddings_rsc[eye_tracking_data[rsc]['word'][i]] = array(x.loc[i].values, dtype=float)\n",
    "\n",
    "for dataset_ in word_similarity['ru']:\n",
    "    for result in results_ru.keys():\n",
    "        if result == 'Ruswikicorpora':\n",
    "            model = word2vec_ru_ruscorpora\n",
    "            pos_tags = True\n",
    "        elif result == 'Aranea':\n",
    "            model = word2vec_ru_araneum\n",
    "            pos_tags = True\n",
    "        else:\n",
    "            model = eye_embeddings_rsc\n",
    "            pos_tags = False\n",
    "        try:\n",
    "            _dataset, percentage, amount = load_sim_dataset(word_similarity['ru'][dataset_], model, pos_tags)\n",
    "            dropped_ru[result][dataset_] = '{:0.2f}%, {}'.format(percentage, amount)\n",
    "            dataset = make_sims_dataset(_dataset, model, pos_tags, 'ru')\n",
    "        except ZeroDivisionError:\n",
    "            results_ru[result][dataset_] = 0\n",
    "            continue\n",
    "        results_ru[result][dataset_] = round(spearmanr(dataset, _dataset.similarity)[0], 2), round(spearmanr(dataset, _dataset.similarity)[1], 2)"
   ]
  },
  {
   "cell_type": "code",
   "execution_count": 14,
   "metadata": {
    "ExecuteTime": {
     "end_time": "2018-03-02T11:18:08.848796Z",
     "start_time": "2018-03-02T11:18:08.831323Z"
    }
   },
   "outputs": [
    {
     "data": {
      "text/html": [
       "<div>\n",
       "<style scoped>\n",
       "    .dataframe tbody tr th:only-of-type {\n",
       "        vertical-align: middle;\n",
       "    }\n",
       "\n",
       "    .dataframe tbody tr th {\n",
       "        vertical-align: top;\n",
       "    }\n",
       "\n",
       "    .dataframe thead th {\n",
       "        text-align: right;\n",
       "    }\n",
       "</style>\n",
       "<table border=\"1\" class=\"dataframe\">\n",
       "  <thead>\n",
       "    <tr style=\"text-align: right;\">\n",
       "      <th></th>\n",
       "      <th>Aranea</th>\n",
       "      <th>RSC</th>\n",
       "      <th>Ruswikicorpora</th>\n",
       "    </tr>\n",
       "  </thead>\n",
       "  <tbody>\n",
       "    <tr>\n",
       "      <th>mc-30</th>\n",
       "      <td>(0.78, 0.0)</td>\n",
       "      <td>(nan, nan)</td>\n",
       "      <td>(0.82, 0.0)</td>\n",
       "    </tr>\n",
       "    <tr>\n",
       "      <th>rg-65</th>\n",
       "      <td>(0.76, 0.0)</td>\n",
       "      <td>(nan, nan)</td>\n",
       "      <td>(0.8, 0.0)</td>\n",
       "    </tr>\n",
       "    <tr>\n",
       "      <th>simlex</th>\n",
       "      <td>(0.39, 0.0)</td>\n",
       "      <td>(0.24, 0.29)</td>\n",
       "      <td>(0.28, 0.0)</td>\n",
       "    </tr>\n",
       "    <tr>\n",
       "      <th>wordsim353-relatedness</th>\n",
       "      <td>(0.61, 0.0)</td>\n",
       "      <td>(0.05, 0.91)</td>\n",
       "      <td>(0.57, 0.0)</td>\n",
       "    </tr>\n",
       "    <tr>\n",
       "      <th>wordsim353-similarity</th>\n",
       "      <td>(0.8, 0.0)</td>\n",
       "      <td>(-0.1, 0.87)</td>\n",
       "      <td>(0.75, 0.0)</td>\n",
       "    </tr>\n",
       "  </tbody>\n",
       "</table>\n",
       "</div>"
      ],
      "text/plain": [
       "                             Aranea           RSC Ruswikicorpora\n",
       "mc-30                   (0.78, 0.0)    (nan, nan)    (0.82, 0.0)\n",
       "rg-65                   (0.76, 0.0)    (nan, nan)     (0.8, 0.0)\n",
       "simlex                  (0.39, 0.0)  (0.24, 0.29)    (0.28, 0.0)\n",
       "wordsim353-relatedness  (0.61, 0.0)  (0.05, 0.91)    (0.57, 0.0)\n",
       "wordsim353-similarity    (0.8, 0.0)  (-0.1, 0.87)    (0.75, 0.0)"
      ]
     },
     "execution_count": 14,
     "metadata": {},
     "output_type": "execute_result"
    }
   ],
   "source": [
    "DataFrame(results_ru)"
   ]
  },
  {
   "cell_type": "code",
   "execution_count": 15,
   "metadata": {
    "ExecuteTime": {
     "end_time": "2018-03-02T11:18:08.983982Z",
     "start_time": "2018-03-02T11:18:08.850185Z"
    }
   },
   "outputs": [
    {
     "data": {
      "text/html": [
       "<div>\n",
       "<style scoped>\n",
       "    .dataframe tbody tr th:only-of-type {\n",
       "        vertical-align: middle;\n",
       "    }\n",
       "\n",
       "    .dataframe tbody tr th {\n",
       "        vertical-align: top;\n",
       "    }\n",
       "\n",
       "    .dataframe thead th {\n",
       "        text-align: right;\n",
       "    }\n",
       "</style>\n",
       "<table border=\"1\" class=\"dataframe\">\n",
       "  <thead>\n",
       "    <tr style=\"text-align: right;\">\n",
       "      <th></th>\n",
       "      <th>Aranea</th>\n",
       "      <th>RSC</th>\n",
       "      <th>Ruswikicorpora</th>\n",
       "    </tr>\n",
       "  </thead>\n",
       "  <tbody>\n",
       "    <tr>\n",
       "      <th>mc-30</th>\n",
       "      <td>0.00%, 30</td>\n",
       "      <td>96.67%, 1</td>\n",
       "      <td>0.00%, 30</td>\n",
       "    </tr>\n",
       "    <tr>\n",
       "      <th>rg-65</th>\n",
       "      <td>0.00%, 65</td>\n",
       "      <td>98.46%, 1</td>\n",
       "      <td>0.00%, 65</td>\n",
       "    </tr>\n",
       "    <tr>\n",
       "      <th>simlex</th>\n",
       "      <td>1.97%, 946</td>\n",
       "      <td>97.82%, 21</td>\n",
       "      <td>1.55%, 950</td>\n",
       "    </tr>\n",
       "    <tr>\n",
       "      <th>wordsim353-relatedness</th>\n",
       "      <td>10.80%, 223</td>\n",
       "      <td>97.20%, 7</td>\n",
       "      <td>4.80%, 238</td>\n",
       "    </tr>\n",
       "    <tr>\n",
       "      <th>wordsim353-similarity</th>\n",
       "      <td>11.88%, 178</td>\n",
       "      <td>97.52%, 5</td>\n",
       "      <td>5.94%, 190</td>\n",
       "    </tr>\n",
       "  </tbody>\n",
       "</table>\n",
       "</div>"
      ],
      "text/plain": [
       "                             Aranea         RSC Ruswikicorpora\n",
       "mc-30                     0.00%, 30   96.67%, 1      0.00%, 30\n",
       "rg-65                     0.00%, 65   98.46%, 1      0.00%, 65\n",
       "simlex                   1.97%, 946  97.82%, 21     1.55%, 950\n",
       "wordsim353-relatedness  10.80%, 223   97.20%, 7     4.80%, 238\n",
       "wordsim353-similarity   11.88%, 178   97.52%, 5     5.94%, 190"
      ]
     },
     "execution_count": 15,
     "metadata": {},
     "output_type": "execute_result"
    }
   ],
   "source": [
    "DataFrame(dropped_ru)"
   ]
  },
  {
   "cell_type": "code",
   "execution_count": 16,
   "metadata": {
    "ExecuteTime": {
     "end_time": "2018-03-02T11:18:40.649986Z",
     "start_time": "2018-03-02T11:18:08.986382Z"
    }
   },
   "outputs": [],
   "source": [
    "results_en_geco = {'gaze vectors geco': {}, 'Googlenews': {}, 'BNC': {}}\n",
    "dropped_en_geco = {'gaze vectors geco': {}, 'Googlenews': {}, 'BNC': {}}\n",
    "\n",
    "eye_embeddings_geco = {}\n",
    "\n",
    "for i, k in eye_tracking_data[geco].iloc[:,2:len(eye_tracking_data[geco].columns)].iterrows():\n",
    "    normalized = eye_tracking_data[geco].loc[:,'TRIAL_TOTAL_READING_TIME':].apply(lambda x: normalize(x[:,np.newaxis], axis=0).ravel())\n",
    "    x = normalized.values \n",
    "    min_max_scaler = MinMaxScaler()\n",
    "    x_scaled = min_max_scaler.fit_transform(x)\n",
    "    x = DataFrame(x_scaled)\n",
    "    eye_embeddings_geco[eye_tracking_data[geco]['word'][i]] = array(x.loc[i].values, dtype=float)\n",
    "\n",
    "for dataset_ in word_similarity['en']:\n",
    "    for result in results_en_geco.keys():\n",
    "        if result == 'Googlenews':\n",
    "            model = word2vec_en_googlenews\n",
    "            pos_tags = False\n",
    "        elif result == 'BNC':\n",
    "            model = word2vec_en_bnc\n",
    "            pos_tags = True\n",
    "        else:\n",
    "            model = eye_embeddings_geco\n",
    "            pos_tags = False\n",
    "        try:\n",
    "            _dataset, percentage, amount = load_sim_dataset(word_similarity['en'][dataset_], model, pos_tags, 'en')\n",
    "            dropped_en_geco[result][dataset_] = '{:0.2f}%, {}'.format(percentage, amount)\n",
    "            dataset = make_sims_dataset(_dataset, model, pos_tags, 'en')\n",
    "        except ZeroDivisionError:\n",
    "            results_en_geco[result][dataset_] = 0\n",
    "            continue\n",
    "        results_en_geco[result][dataset_] = round(spearmanr(dataset, _dataset.similarity)[0], 2), round(spearmanr(dataset, _dataset.similarity)[1], 2)"
   ]
  },
  {
   "cell_type": "code",
   "execution_count": 17,
   "metadata": {
    "ExecuteTime": {
     "end_time": "2018-03-02T11:18:40.667652Z",
     "start_time": "2018-03-02T11:18:40.651869Z"
    }
   },
   "outputs": [
    {
     "data": {
      "text/html": [
       "<div>\n",
       "<style scoped>\n",
       "    .dataframe tbody tr th:only-of-type {\n",
       "        vertical-align: middle;\n",
       "    }\n",
       "\n",
       "    .dataframe tbody tr th {\n",
       "        vertical-align: top;\n",
       "    }\n",
       "\n",
       "    .dataframe thead th {\n",
       "        text-align: right;\n",
       "    }\n",
       "</style>\n",
       "<table border=\"1\" class=\"dataframe\">\n",
       "  <thead>\n",
       "    <tr style=\"text-align: right;\">\n",
       "      <th></th>\n",
       "      <th>BNC</th>\n",
       "      <th>Googlenews</th>\n",
       "      <th>gaze vectors geco</th>\n",
       "    </tr>\n",
       "  </thead>\n",
       "  <tbody>\n",
       "    <tr>\n",
       "      <th>mc-30</th>\n",
       "      <td>(0.82, 0.0)</td>\n",
       "      <td>(0.79, 0.0)</td>\n",
       "      <td>(nan, nan)</td>\n",
       "    </tr>\n",
       "    <tr>\n",
       "      <th>men</th>\n",
       "      <td>(0.76, 0.0)</td>\n",
       "      <td>(0.77, 0.0)</td>\n",
       "      <td>(-0.19, 0.4)</td>\n",
       "    </tr>\n",
       "    <tr>\n",
       "      <th>mturk-287</th>\n",
       "      <td>(0.75, 0.0)</td>\n",
       "      <td>(0.68, 0.0)</td>\n",
       "      <td>(nan, nan)</td>\n",
       "    </tr>\n",
       "    <tr>\n",
       "      <th>mturk-771</th>\n",
       "      <td>(0.69, 0.0)</td>\n",
       "      <td>(0.67, 0.0)</td>\n",
       "      <td>(0.14, 0.76)</td>\n",
       "    </tr>\n",
       "    <tr>\n",
       "      <th>rg-65</th>\n",
       "      <td>(0.8, 0.0)</td>\n",
       "      <td>(0.76, 0.0)</td>\n",
       "      <td>(nan, nan)</td>\n",
       "    </tr>\n",
       "    <tr>\n",
       "      <th>rw</th>\n",
       "      <td>(0.35, 0.0)</td>\n",
       "      <td>(0.53, 0.0)</td>\n",
       "      <td>(-0.4, 0.6)</td>\n",
       "    </tr>\n",
       "    <tr>\n",
       "      <th>semeval17</th>\n",
       "      <td>(0.74, 0.0)</td>\n",
       "      <td>(0.72, 0.0)</td>\n",
       "      <td>(1.0, 0.0)</td>\n",
       "    </tr>\n",
       "    <tr>\n",
       "      <th>simlex</th>\n",
       "      <td>(0.25, 0.0)</td>\n",
       "      <td>(0.35, 0.0)</td>\n",
       "      <td>(-0.28, 0.09)</td>\n",
       "    </tr>\n",
       "    <tr>\n",
       "      <th>simverb-3500</th>\n",
       "      <td>(0.18, 0.0)</td>\n",
       "      <td>(0.36, 0.0)</td>\n",
       "      <td>(0.06, 0.33)</td>\n",
       "    </tr>\n",
       "    <tr>\n",
       "      <th>verb-143</th>\n",
       "      <td>(0.24, 0.09)</td>\n",
       "      <td>(0.57, 0.0)</td>\n",
       "      <td>(nan, nan)</td>\n",
       "    </tr>\n",
       "    <tr>\n",
       "      <th>wordsim353-relatedness</th>\n",
       "      <td>(nan, nan)</td>\n",
       "      <td>(0.64, 0.0)</td>\n",
       "      <td>(-0.6, 0.4)</td>\n",
       "    </tr>\n",
       "    <tr>\n",
       "      <th>wordsim353-similarity</th>\n",
       "      <td>(nan, nan)</td>\n",
       "      <td>(0.77, 0.0)</td>\n",
       "      <td>(-0.8, 0.1)</td>\n",
       "    </tr>\n",
       "    <tr>\n",
       "      <th>yp-130</th>\n",
       "      <td>(0.23, 0.09)</td>\n",
       "      <td>(0.56, 0.0)</td>\n",
       "      <td>(nan, nan)</td>\n",
       "    </tr>\n",
       "  </tbody>\n",
       "</table>\n",
       "</div>"
      ],
      "text/plain": [
       "                                 BNC   Googlenews gaze vectors geco\n",
       "mc-30                    (0.82, 0.0)  (0.79, 0.0)        (nan, nan)\n",
       "men                      (0.76, 0.0)  (0.77, 0.0)      (-0.19, 0.4)\n",
       "mturk-287                (0.75, 0.0)  (0.68, 0.0)        (nan, nan)\n",
       "mturk-771                (0.69, 0.0)  (0.67, 0.0)      (0.14, 0.76)\n",
       "rg-65                     (0.8, 0.0)  (0.76, 0.0)        (nan, nan)\n",
       "rw                       (0.35, 0.0)  (0.53, 0.0)       (-0.4, 0.6)\n",
       "semeval17                (0.74, 0.0)  (0.72, 0.0)        (1.0, 0.0)\n",
       "simlex                   (0.25, 0.0)  (0.35, 0.0)     (-0.28, 0.09)\n",
       "simverb-3500             (0.18, 0.0)  (0.36, 0.0)      (0.06, 0.33)\n",
       "verb-143                (0.24, 0.09)  (0.57, 0.0)        (nan, nan)\n",
       "wordsim353-relatedness    (nan, nan)  (0.64, 0.0)       (-0.6, 0.4)\n",
       "wordsim353-similarity     (nan, nan)  (0.77, 0.0)       (-0.8, 0.1)\n",
       "yp-130                  (0.23, 0.09)  (0.56, 0.0)        (nan, nan)"
      ]
     },
     "execution_count": 17,
     "metadata": {},
     "output_type": "execute_result"
    }
   ],
   "source": [
    "DataFrame(results_en_geco)"
   ]
  },
  {
   "cell_type": "code",
   "execution_count": 18,
   "metadata": {
    "ExecuteTime": {
     "end_time": "2018-03-02T11:18:40.792084Z",
     "start_time": "2018-03-02T11:18:40.668850Z"
    }
   },
   "outputs": [
    {
     "data": {
      "text/html": [
       "<div>\n",
       "<style scoped>\n",
       "    .dataframe tbody tr th:only-of-type {\n",
       "        vertical-align: middle;\n",
       "    }\n",
       "\n",
       "    .dataframe tbody tr th {\n",
       "        vertical-align: top;\n",
       "    }\n",
       "\n",
       "    .dataframe thead th {\n",
       "        text-align: right;\n",
       "    }\n",
       "</style>\n",
       "<table border=\"1\" class=\"dataframe\">\n",
       "  <thead>\n",
       "    <tr style=\"text-align: right;\">\n",
       "      <th></th>\n",
       "      <th>BNC</th>\n",
       "      <th>Googlenews</th>\n",
       "      <th>gaze vectors geco</th>\n",
       "    </tr>\n",
       "  </thead>\n",
       "  <tbody>\n",
       "    <tr>\n",
       "      <th>mc-30</th>\n",
       "      <td>0.00%, 30</td>\n",
       "      <td>0.00%, 30</td>\n",
       "      <td>100.00%, 0</td>\n",
       "    </tr>\n",
       "    <tr>\n",
       "      <th>men</th>\n",
       "      <td>14.60%, 2562</td>\n",
       "      <td>1.80%, 2946</td>\n",
       "      <td>99.27%, 22</td>\n",
       "    </tr>\n",
       "    <tr>\n",
       "      <th>mturk-287</th>\n",
       "      <td>48.43%, 148</td>\n",
       "      <td>4.18%, 275</td>\n",
       "      <td>99.65%, 1</td>\n",
       "    </tr>\n",
       "    <tr>\n",
       "      <th>mturk-771</th>\n",
       "      <td>5.97%, 725</td>\n",
       "      <td>0.00%, 771</td>\n",
       "      <td>99.09%, 7</td>\n",
       "    </tr>\n",
       "    <tr>\n",
       "      <th>rg-65</th>\n",
       "      <td>0.00%, 65</td>\n",
       "      <td>0.00%, 65</td>\n",
       "      <td>100.00%, 0</td>\n",
       "    </tr>\n",
       "    <tr>\n",
       "      <th>rw</th>\n",
       "      <td>69.17%, 627</td>\n",
       "      <td>10.28%, 1825</td>\n",
       "      <td>99.80%, 4</td>\n",
       "    </tr>\n",
       "    <tr>\n",
       "      <th>semeval17</th>\n",
       "      <td>40.00%, 300</td>\n",
       "      <td>25.00%, 375</td>\n",
       "      <td>99.40%, 3</td>\n",
       "    </tr>\n",
       "    <tr>\n",
       "      <th>simlex</th>\n",
       "      <td>26.13%, 738</td>\n",
       "      <td>0.00%, 999</td>\n",
       "      <td>96.30%, 37</td>\n",
       "    </tr>\n",
       "    <tr>\n",
       "      <th>simverb-3500</th>\n",
       "      <td>51.57%, 1695</td>\n",
       "      <td>0.00%, 3500</td>\n",
       "      <td>93.31%, 234</td>\n",
       "    </tr>\n",
       "    <tr>\n",
       "      <th>verb-143</th>\n",
       "      <td>60.00%, 52</td>\n",
       "      <td>3.08%, 126</td>\n",
       "      <td>100.00%, 0</td>\n",
       "    </tr>\n",
       "    <tr>\n",
       "      <th>wordsim353-relatedness</th>\n",
       "      <td>9.09%, 230</td>\n",
       "      <td>0.40%, 252</td>\n",
       "      <td>98.42%, 4</td>\n",
       "    </tr>\n",
       "    <tr>\n",
       "      <th>wordsim353-similarity</th>\n",
       "      <td>4.90%, 194</td>\n",
       "      <td>0.49%, 203</td>\n",
       "      <td>97.55%, 5</td>\n",
       "    </tr>\n",
       "    <tr>\n",
       "      <th>yp-130</th>\n",
       "      <td>57.69%, 55</td>\n",
       "      <td>0.00%, 130</td>\n",
       "      <td>99.23%, 1</td>\n",
       "    </tr>\n",
       "  </tbody>\n",
       "</table>\n",
       "</div>"
      ],
      "text/plain": [
       "                                 BNC    Googlenews gaze vectors geco\n",
       "mc-30                      0.00%, 30     0.00%, 30        100.00%, 0\n",
       "men                     14.60%, 2562   1.80%, 2946        99.27%, 22\n",
       "mturk-287                48.43%, 148    4.18%, 275         99.65%, 1\n",
       "mturk-771                 5.97%, 725    0.00%, 771         99.09%, 7\n",
       "rg-65                      0.00%, 65     0.00%, 65        100.00%, 0\n",
       "rw                       69.17%, 627  10.28%, 1825         99.80%, 4\n",
       "semeval17                40.00%, 300   25.00%, 375         99.40%, 3\n",
       "simlex                   26.13%, 738    0.00%, 999        96.30%, 37\n",
       "simverb-3500            51.57%, 1695   0.00%, 3500       93.31%, 234\n",
       "verb-143                  60.00%, 52    3.08%, 126        100.00%, 0\n",
       "wordsim353-relatedness    9.09%, 230    0.40%, 252         98.42%, 4\n",
       "wordsim353-similarity     4.90%, 194    0.49%, 203         97.55%, 5\n",
       "yp-130                    57.69%, 55    0.00%, 130         99.23%, 1"
      ]
     },
     "execution_count": 18,
     "metadata": {},
     "output_type": "execute_result"
    }
   ],
   "source": [
    "DataFrame(dropped_en_geco)"
   ]
  },
  {
   "cell_type": "code",
   "execution_count": 19,
   "metadata": {
    "ExecuteTime": {
     "end_time": "2018-03-02T11:19:09.416860Z",
     "start_time": "2018-03-02T11:18:40.794601Z"
    }
   },
   "outputs": [],
   "source": [
    "results_en_provo = {'gaze vectors provo': {}, 'Googlenews': {}, 'BNC': {}}\n",
    "dropped_en_provo = {'gaze vectors provo': {}, 'Googlenews': {}, 'BNC': {}}\n",
    "\n",
    "eye_embeddings_provo = {}\n",
    "\n",
    "for i, k in eye_tracking_data[provo].iloc[:,2:len(eye_tracking_data[provo].columns)].iterrows():\n",
    "    normalized = eye_tracking_data[provo].loc[:,'IA_DWELL_TIME':].apply(lambda x: normalize(x[:,np.newaxis], axis=0).ravel())\n",
    "    x = normalized.values \n",
    "    min_max_scaler = MinMaxScaler()\n",
    "    x_scaled = min_max_scaler.fit_transform(x)\n",
    "    x = DataFrame(x_scaled)\n",
    "    eye_embeddings_provo[eye_tracking_data[provo]['word'][i]] = array(x.loc[i].values, dtype=float)\n",
    "\n",
    "for dataset_ in word_similarity['en']:\n",
    "    for result in results_en_provo.keys():\n",
    "        if result == 'Googlenews':\n",
    "            model = word2vec_en_googlenews\n",
    "            pos_tags = False\n",
    "        elif result == 'BNC':\n",
    "            model = word2vec_en_bnc\n",
    "            pos_tags = True\n",
    "        else:\n",
    "            model = eye_embeddings_provo\n",
    "            pos_tags = False\n",
    "        try:\n",
    "            _dataset, percentage, amount = load_sim_dataset(word_similarity['en'][dataset_], model, pos_tags, 'en')\n",
    "            dropped_en_provo[result][dataset_] = '{:0.2f}%, {}'.format(percentage, amount)\n",
    "            dataset = make_sims_dataset(_dataset, model, pos_tags, 'en')\n",
    "        except ZeroDivisionError:\n",
    "            results_en_provo[result][dataset_] = 0\n",
    "            continue\n",
    "        results_en_provo[result][dataset_] = round(spearmanr(dataset, _dataset.similarity)[0], 2), round(spearmanr(dataset, _dataset.similarity)[1], 2)"
   ]
  },
  {
   "cell_type": "code",
   "execution_count": 20,
   "metadata": {
    "ExecuteTime": {
     "end_time": "2018-03-02T11:19:09.434503Z",
     "start_time": "2018-03-02T11:19:09.418537Z"
    }
   },
   "outputs": [
    {
     "data": {
      "text/html": [
       "<div>\n",
       "<style scoped>\n",
       "    .dataframe tbody tr th:only-of-type {\n",
       "        vertical-align: middle;\n",
       "    }\n",
       "\n",
       "    .dataframe tbody tr th {\n",
       "        vertical-align: top;\n",
       "    }\n",
       "\n",
       "    .dataframe thead th {\n",
       "        text-align: right;\n",
       "    }\n",
       "</style>\n",
       "<table border=\"1\" class=\"dataframe\">\n",
       "  <thead>\n",
       "    <tr style=\"text-align: right;\">\n",
       "      <th></th>\n",
       "      <th>BNC</th>\n",
       "      <th>Googlenews</th>\n",
       "      <th>gaze vectors provo</th>\n",
       "    </tr>\n",
       "  </thead>\n",
       "  <tbody>\n",
       "    <tr>\n",
       "      <th>mc-30</th>\n",
       "      <td>(0.82, 0.0)</td>\n",
       "      <td>(0.79, 0.0)</td>\n",
       "      <td>(nan, nan)</td>\n",
       "    </tr>\n",
       "    <tr>\n",
       "      <th>men</th>\n",
       "      <td>(0.76, 0.0)</td>\n",
       "      <td>(0.77, 0.0)</td>\n",
       "      <td>(-0.09, 0.43)</td>\n",
       "    </tr>\n",
       "    <tr>\n",
       "      <th>mturk-287</th>\n",
       "      <td>(0.75, 0.0)</td>\n",
       "      <td>(0.68, 0.0)</td>\n",
       "      <td>(-1.0, nan)</td>\n",
       "    </tr>\n",
       "    <tr>\n",
       "      <th>mturk-771</th>\n",
       "      <td>(0.69, 0.0)</td>\n",
       "      <td>(0.67, 0.0)</td>\n",
       "      <td>(0.19, 0.44)</td>\n",
       "    </tr>\n",
       "    <tr>\n",
       "      <th>rg-65</th>\n",
       "      <td>(0.8, 0.0)</td>\n",
       "      <td>(0.76, 0.0)</td>\n",
       "      <td>(nan, nan)</td>\n",
       "    </tr>\n",
       "    <tr>\n",
       "      <th>rw</th>\n",
       "      <td>(0.35, 0.0)</td>\n",
       "      <td>(0.53, 0.0)</td>\n",
       "      <td>(-1.0, nan)</td>\n",
       "    </tr>\n",
       "    <tr>\n",
       "      <th>semeval17</th>\n",
       "      <td>(0.74, 0.0)</td>\n",
       "      <td>(0.72, 0.0)</td>\n",
       "      <td>(0.77, 0.07)</td>\n",
       "    </tr>\n",
       "    <tr>\n",
       "      <th>simlex</th>\n",
       "      <td>(0.25, 0.0)</td>\n",
       "      <td>(0.35, 0.0)</td>\n",
       "      <td>(-0.09, 0.58)</td>\n",
       "    </tr>\n",
       "    <tr>\n",
       "      <th>simverb-3500</th>\n",
       "      <td>(0.18, 0.0)</td>\n",
       "      <td>(0.36, 0.0)</td>\n",
       "      <td>(0.01, 0.92)</td>\n",
       "    </tr>\n",
       "    <tr>\n",
       "      <th>verb-143</th>\n",
       "      <td>(0.24, 0.09)</td>\n",
       "      <td>(0.57, 0.0)</td>\n",
       "      <td>(nan, nan)</td>\n",
       "    </tr>\n",
       "    <tr>\n",
       "      <th>wordsim353-relatedness</th>\n",
       "      <td>(nan, nan)</td>\n",
       "      <td>(0.64, 0.0)</td>\n",
       "      <td>(0.07, 0.84)</td>\n",
       "    </tr>\n",
       "    <tr>\n",
       "      <th>wordsim353-similarity</th>\n",
       "      <td>(nan, nan)</td>\n",
       "      <td>(0.77, 0.0)</td>\n",
       "      <td>(-0.2, 0.75)</td>\n",
       "    </tr>\n",
       "    <tr>\n",
       "      <th>yp-130</th>\n",
       "      <td>(0.23, 0.09)</td>\n",
       "      <td>(0.56, 0.0)</td>\n",
       "      <td>(nan, nan)</td>\n",
       "    </tr>\n",
       "  </tbody>\n",
       "</table>\n",
       "</div>"
      ],
      "text/plain": [
       "                                 BNC   Googlenews gaze vectors provo\n",
       "mc-30                    (0.82, 0.0)  (0.79, 0.0)         (nan, nan)\n",
       "men                      (0.76, 0.0)  (0.77, 0.0)      (-0.09, 0.43)\n",
       "mturk-287                (0.75, 0.0)  (0.68, 0.0)        (-1.0, nan)\n",
       "mturk-771                (0.69, 0.0)  (0.67, 0.0)       (0.19, 0.44)\n",
       "rg-65                     (0.8, 0.0)  (0.76, 0.0)         (nan, nan)\n",
       "rw                       (0.35, 0.0)  (0.53, 0.0)        (-1.0, nan)\n",
       "semeval17                (0.74, 0.0)  (0.72, 0.0)       (0.77, 0.07)\n",
       "simlex                   (0.25, 0.0)  (0.35, 0.0)      (-0.09, 0.58)\n",
       "simverb-3500             (0.18, 0.0)  (0.36, 0.0)       (0.01, 0.92)\n",
       "verb-143                (0.24, 0.09)  (0.57, 0.0)         (nan, nan)\n",
       "wordsim353-relatedness    (nan, nan)  (0.64, 0.0)       (0.07, 0.84)\n",
       "wordsim353-similarity     (nan, nan)  (0.77, 0.0)       (-0.2, 0.75)\n",
       "yp-130                  (0.23, 0.09)  (0.56, 0.0)         (nan, nan)"
      ]
     },
     "execution_count": 20,
     "metadata": {},
     "output_type": "execute_result"
    }
   ],
   "source": [
    "DataFrame(results_en_provo)"
   ]
  },
  {
   "cell_type": "code",
   "execution_count": 21,
   "metadata": {
    "ExecuteTime": {
     "end_time": "2018-03-02T11:19:09.551382Z",
     "start_time": "2018-03-02T11:19:09.435721Z"
    }
   },
   "outputs": [
    {
     "data": {
      "text/html": [
       "<div>\n",
       "<style scoped>\n",
       "    .dataframe tbody tr th:only-of-type {\n",
       "        vertical-align: middle;\n",
       "    }\n",
       "\n",
       "    .dataframe tbody tr th {\n",
       "        vertical-align: top;\n",
       "    }\n",
       "\n",
       "    .dataframe thead th {\n",
       "        text-align: right;\n",
       "    }\n",
       "</style>\n",
       "<table border=\"1\" class=\"dataframe\">\n",
       "  <thead>\n",
       "    <tr style=\"text-align: right;\">\n",
       "      <th></th>\n",
       "      <th>BNC</th>\n",
       "      <th>Googlenews</th>\n",
       "      <th>gaze vectors provo</th>\n",
       "    </tr>\n",
       "  </thead>\n",
       "  <tbody>\n",
       "    <tr>\n",
       "      <th>mc-30</th>\n",
       "      <td>0.00%, 30</td>\n",
       "      <td>0.00%, 30</td>\n",
       "      <td>100.00%, 0</td>\n",
       "    </tr>\n",
       "    <tr>\n",
       "      <th>men</th>\n",
       "      <td>14.60%, 2562</td>\n",
       "      <td>1.80%, 2946</td>\n",
       "      <td>97.43%, 77</td>\n",
       "    </tr>\n",
       "    <tr>\n",
       "      <th>mturk-287</th>\n",
       "      <td>48.43%, 148</td>\n",
       "      <td>4.18%, 275</td>\n",
       "      <td>99.30%, 2</td>\n",
       "    </tr>\n",
       "    <tr>\n",
       "      <th>mturk-771</th>\n",
       "      <td>5.97%, 725</td>\n",
       "      <td>0.00%, 771</td>\n",
       "      <td>97.54%, 19</td>\n",
       "    </tr>\n",
       "    <tr>\n",
       "      <th>rg-65</th>\n",
       "      <td>0.00%, 65</td>\n",
       "      <td>0.00%, 65</td>\n",
       "      <td>100.00%, 0</td>\n",
       "    </tr>\n",
       "    <tr>\n",
       "      <th>rw</th>\n",
       "      <td>69.17%, 627</td>\n",
       "      <td>10.28%, 1825</td>\n",
       "      <td>99.90%, 2</td>\n",
       "    </tr>\n",
       "    <tr>\n",
       "      <th>semeval17</th>\n",
       "      <td>40.00%, 300</td>\n",
       "      <td>25.00%, 375</td>\n",
       "      <td>98.80%, 6</td>\n",
       "    </tr>\n",
       "    <tr>\n",
       "      <th>simlex</th>\n",
       "      <td>26.13%, 738</td>\n",
       "      <td>0.00%, 999</td>\n",
       "      <td>95.90%, 41</td>\n",
       "    </tr>\n",
       "    <tr>\n",
       "      <th>simverb-3500</th>\n",
       "      <td>51.57%, 1695</td>\n",
       "      <td>0.00%, 3500</td>\n",
       "      <td>97.86%, 75</td>\n",
       "    </tr>\n",
       "    <tr>\n",
       "      <th>verb-143</th>\n",
       "      <td>60.00%, 52</td>\n",
       "      <td>3.08%, 126</td>\n",
       "      <td>100.00%, 0</td>\n",
       "    </tr>\n",
       "    <tr>\n",
       "      <th>wordsim353-relatedness</th>\n",
       "      <td>9.09%, 230</td>\n",
       "      <td>0.40%, 252</td>\n",
       "      <td>95.65%, 11</td>\n",
       "    </tr>\n",
       "    <tr>\n",
       "      <th>wordsim353-similarity</th>\n",
       "      <td>4.90%, 194</td>\n",
       "      <td>0.49%, 203</td>\n",
       "      <td>97.55%, 5</td>\n",
       "    </tr>\n",
       "    <tr>\n",
       "      <th>yp-130</th>\n",
       "      <td>57.69%, 55</td>\n",
       "      <td>0.00%, 130</td>\n",
       "      <td>100.00%, 0</td>\n",
       "    </tr>\n",
       "  </tbody>\n",
       "</table>\n",
       "</div>"
      ],
      "text/plain": [
       "                                 BNC    Googlenews gaze vectors provo\n",
       "mc-30                      0.00%, 30     0.00%, 30         100.00%, 0\n",
       "men                     14.60%, 2562   1.80%, 2946         97.43%, 77\n",
       "mturk-287                48.43%, 148    4.18%, 275          99.30%, 2\n",
       "mturk-771                 5.97%, 725    0.00%, 771         97.54%, 19\n",
       "rg-65                      0.00%, 65     0.00%, 65         100.00%, 0\n",
       "rw                       69.17%, 627  10.28%, 1825          99.90%, 2\n",
       "semeval17                40.00%, 300   25.00%, 375          98.80%, 6\n",
       "simlex                   26.13%, 738    0.00%, 999         95.90%, 41\n",
       "simverb-3500            51.57%, 1695   0.00%, 3500         97.86%, 75\n",
       "verb-143                  60.00%, 52    3.08%, 126         100.00%, 0\n",
       "wordsim353-relatedness    9.09%, 230    0.40%, 252         95.65%, 11\n",
       "wordsim353-similarity     4.90%, 194    0.49%, 203          97.55%, 5\n",
       "yp-130                    57.69%, 55    0.00%, 130         100.00%, 0"
      ]
     },
     "execution_count": 21,
     "metadata": {},
     "output_type": "execute_result"
    }
   ],
   "source": [
    "DataFrame(dropped_en_provo)"
   ]
  },
  {
   "cell_type": "markdown",
   "metadata": {},
   "source": [
    "# Correlation with word embeddings"
   ]
  },
  {
   "cell_type": "code",
   "execution_count": 22,
   "metadata": {
    "ExecuteTime": {
     "end_time": "2018-03-02T11:21:04.980296Z",
     "start_time": "2018-03-02T11:19:09.553436Z"
    }
   },
   "outputs": [],
   "source": [
    "correlations_ru = defaultdict(lambda: {})\n",
    "                \n",
    "correlations_ru['word2vec_ru_araneum']['rsc'] = spearmanr(*make_word2vec_eye_dataset(eye_embeddings_rsc, word2vec_ru_araneum))\n",
    "correlations_ru['word2vec_ru_ruscorpora']['rsc'] = spearmanr(*make_word2vec_eye_dataset(eye_embeddings_rsc, word2vec_ru_ruscorpora))"
   ]
  },
  {
   "cell_type": "code",
   "execution_count": 23,
   "metadata": {
    "ExecuteTime": {
     "end_time": "2018-03-02T11:21:04.989652Z",
     "start_time": "2018-03-02T11:21:04.982114Z"
    }
   },
   "outputs": [
    {
     "data": {
      "text/html": [
       "<div>\n",
       "<style scoped>\n",
       "    .dataframe tbody tr th:only-of-type {\n",
       "        vertical-align: middle;\n",
       "    }\n",
       "\n",
       "    .dataframe tbody tr th {\n",
       "        vertical-align: top;\n",
       "    }\n",
       "\n",
       "    .dataframe thead th {\n",
       "        text-align: right;\n",
       "    }\n",
       "</style>\n",
       "<table border=\"1\" class=\"dataframe\">\n",
       "  <thead>\n",
       "    <tr style=\"text-align: right;\">\n",
       "      <th></th>\n",
       "      <th>word2vec_ru_araneum</th>\n",
       "      <th>word2vec_ru_ruscorpora</th>\n",
       "    </tr>\n",
       "  </thead>\n",
       "  <tbody>\n",
       "    <tr>\n",
       "      <th>rsc</th>\n",
       "      <td>(0.649707653801, 0.0)</td>\n",
       "      <td>(0.634759933137, 0.0)</td>\n",
       "    </tr>\n",
       "  </tbody>\n",
       "</table>\n",
       "</div>"
      ],
      "text/plain": [
       "       word2vec_ru_araneum word2vec_ru_ruscorpora\n",
       "rsc  (0.649707653801, 0.0)  (0.634759933137, 0.0)"
      ]
     },
     "execution_count": 23,
     "metadata": {},
     "output_type": "execute_result"
    }
   ],
   "source": [
    "DataFrame(correlations_ru)"
   ]
  },
  {
   "cell_type": "code",
   "execution_count": 24,
   "metadata": {
    "ExecuteTime": {
     "end_time": "2018-03-02T11:34:07.874767Z",
     "start_time": "2018-03-02T11:21:04.991081Z"
    }
   },
   "outputs": [],
   "source": [
    "correlations_en = defaultdict(lambda: {})\n",
    "                \n",
    "correlations_en['Googlenews']['geco'] = spearmanr(*make_word2vec_eye_dataset(eye_embeddings_geco, word2vec_en_googlenews, 'en'))\n",
    "correlations_en['BNC']['geco'] = spearmanr(*make_word2vec_eye_dataset(eye_embeddings_geco, word2vec_en_bnc, 'en', True))\n",
    "correlations_en['Googlenews']['provo'] = spearmanr(*make_word2vec_eye_dataset(eye_embeddings_provo, word2vec_en_googlenews, 'en'))\n",
    "correlations_en['BNC']['provo'] = spearmanr(*make_word2vec_eye_dataset(eye_embeddings_provo, word2vec_en_bnc, 'en', True))"
   ]
  },
  {
   "cell_type": "code",
   "execution_count": 25,
   "metadata": {
    "ExecuteTime": {
     "end_time": "2018-03-02T11:34:07.884423Z",
     "start_time": "2018-03-02T11:34:07.876536Z"
    }
   },
   "outputs": [
    {
     "data": {
      "text/html": [
       "<div>\n",
       "<style scoped>\n",
       "    .dataframe tbody tr th:only-of-type {\n",
       "        vertical-align: middle;\n",
       "    }\n",
       "\n",
       "    .dataframe tbody tr th {\n",
       "        vertical-align: top;\n",
       "    }\n",
       "\n",
       "    .dataframe thead th {\n",
       "        text-align: right;\n",
       "    }\n",
       "</style>\n",
       "<table border=\"1\" class=\"dataframe\">\n",
       "  <thead>\n",
       "    <tr style=\"text-align: right;\">\n",
       "      <th></th>\n",
       "      <th>BNC</th>\n",
       "      <th>Googlenews</th>\n",
       "    </tr>\n",
       "  </thead>\n",
       "  <tbody>\n",
       "    <tr>\n",
       "      <th>geco</th>\n",
       "      <td>(0.994503589483, 0.0)</td>\n",
       "      <td>(0.14823886411, 0.0)</td>\n",
       "    </tr>\n",
       "    <tr>\n",
       "      <th>provo</th>\n",
       "      <td>(0.969495089554, 0.0)</td>\n",
       "      <td>(0.230083271838, 0.0)</td>\n",
       "    </tr>\n",
       "  </tbody>\n",
       "</table>\n",
       "</div>"
      ],
      "text/plain": [
       "                         BNC             Googlenews\n",
       "geco   (0.994503589483, 0.0)   (0.14823886411, 0.0)\n",
       "provo  (0.969495089554, 0.0)  (0.230083271838, 0.0)"
      ]
     },
     "execution_count": 25,
     "metadata": {},
     "output_type": "execute_result"
    }
   ],
   "source": [
    "DataFrame(correlations_en)"
   ]
  },
  {
   "cell_type": "markdown",
   "metadata": {},
   "source": [
    "# Find nearest neighbors"
   ]
  },
  {
   "cell_type": "code",
   "execution_count": 26,
   "metadata": {
    "ExecuteTime": {
     "end_time": "2018-03-02T11:34:07.985252Z",
     "start_time": "2018-03-02T11:34:07.885802Z"
    }
   },
   "outputs": [],
   "source": [
    "def compare_nearest_neighbours(eye_embeddings, dis_embeddings_1, dis_embeddings_2, word, pos_tags=False, lang='ru', k=2):\n",
    "    vectors = []\n",
    "    keys = []\n",
    "    for key, vec in eye_embeddings.items():\n",
    "        vectors.append(vec)\n",
    "        keys.append(key) \n",
    "    tree = KDTree(vectors)\n",
    "    distances = tree.query(eye_embeddings[word], k=k)\n",
    "    eye_words = []\n",
    "    for key in distances[1]:\n",
    "        eye_words.append(keys[key])\n",
    "    dis_words_1 = []\n",
    "    dis_words_2 = []\n",
    "    if lang == 'en':\n",
    "        dis_words_1.append([word[0] for word in dis_embeddings_1.most_similar(word, topn=k)])\n",
    "        dis_words_2.append([word[0].split('_')[0] for word in dis_embeddings_2.most_similar(add_pos_tag(word, lang), topn=k)])\n",
    "    else:\n",
    "        if pos_tags:\n",
    "            dis_words_1.append([word[0].split('_')[0] for word in dis_embeddings_1.most_similar(add_pos_tag(word, lang), topn=k)])\n",
    "            dis_words_2.append([word[0].split('_')[0] for word in dis_embeddings_2.most_similar(add_pos_tag(word, lang), topn=k)])\n",
    "        else:\n",
    "            dis_words_1.append([word[0] for word in dis_embeddings_1.most_similar(word, topn=k)])\n",
    "            dis_words_2.append([word[0] for word in dis_embeddings_2.most_similar(word, topn=k)])\n",
    "    return (eye_words[1], dis_words_1[0][1], dis_words_2[0][1])"
   ]
  },
  {
   "cell_type": "code",
   "execution_count": 27,
   "metadata": {
    "ExecuteTime": {
     "end_time": "2018-03-02T11:34:09.523840Z",
     "start_time": "2018-03-02T11:34:07.986725Z"
    }
   },
   "outputs": [
    {
     "data": {
      "text/plain": [
       "[('пряность_NOUN', 0.7660060524940491),\n",
       " ('различный::специя_ADJNOUN', 0.7247569561004639),\n",
       " ('другой::специя_ADJNOUN', 0.7135683298110962),\n",
       " ('смесь::специя_NOUNNOUN', 0.701219916343689),\n",
       " ('другой::пряность_ADJNOUN', 0.6963601112365723),\n",
       " ('черный::перец_ADJNOUN', 0.6822734475135803),\n",
       " ('приправа_NOUN', 0.6816896200180054),\n",
       " ('цедра_NOUN', 0.6775134205818176),\n",
       " ('кинза_NOUN', 0.6630920171737671),\n",
       " ('корица_NOUN', 0.6608870029449463)]"
      ]
     },
     "execution_count": 27,
     "metadata": {},
     "output_type": "execute_result"
    }
   ],
   "source": [
    "word2vec_ru_ruscorpora.most_similar(add_pos_tag('специя'))"
   ]
  },
  {
   "cell_type": "code",
   "execution_count": 28,
   "metadata": {
    "ExecuteTime": {
     "end_time": "2018-03-02T11:34:10.597395Z",
     "start_time": "2018-03-02T11:34:09.525941Z"
    }
   },
   "outputs": [
    {
     "data": {
      "text/html": [
       "<div>\n",
       "<style scoped>\n",
       "    .dataframe tbody tr th:only-of-type {\n",
       "        vertical-align: middle;\n",
       "    }\n",
       "\n",
       "    .dataframe tbody tr th {\n",
       "        vertical-align: top;\n",
       "    }\n",
       "\n",
       "    .dataframe thead th {\n",
       "        text-align: right;\n",
       "    }\n",
       "</style>\n",
       "<table border=\"1\" class=\"dataframe\">\n",
       "  <thead>\n",
       "    <tr style=\"text-align: right;\">\n",
       "      <th></th>\n",
       "      <th>Aranea</th>\n",
       "      <th>Ruscorpora</th>\n",
       "      <th>rsc</th>\n",
       "      <th>target</th>\n",
       "    </tr>\n",
       "  </thead>\n",
       "  <tbody>\n",
       "    <tr>\n",
       "      <th>0</th>\n",
       "      <td>низкий</td>\n",
       "      <td>невысокий</td>\n",
       "      <td>можно</td>\n",
       "      <td>высокий</td>\n",
       "    </tr>\n",
       "    <tr>\n",
       "      <th>1</th>\n",
       "      <td>обоняние</td>\n",
       "      <td>тонкий::чутье</td>\n",
       "      <td>сук</td>\n",
       "      <td>нюх</td>\n",
       "    </tr>\n",
       "    <tr>\n",
       "      <th>2</th>\n",
       "      <td>тащиться</td>\n",
       "      <td>пойти</td>\n",
       "      <td>расти</td>\n",
       "      <td>идти</td>\n",
       "    </tr>\n",
       "    <tr>\n",
       "      <th>3</th>\n",
       "      <td>вознамериваться</td>\n",
       "      <td>решать::тогда</td>\n",
       "      <td>шлейф</td>\n",
       "      <td>решать</td>\n",
       "    </tr>\n",
       "    <tr>\n",
       "      <th>4</th>\n",
       "      <td>австралийский</td>\n",
       "      <td>японский</td>\n",
       "      <td>треугольный</td>\n",
       "      <td>американский</td>\n",
       "    </tr>\n",
       "    <tr>\n",
       "      <th>5</th>\n",
       "      <td>большущий</td>\n",
       "      <td>большой</td>\n",
       "      <td>суметь</td>\n",
       "      <td>огромный</td>\n",
       "    </tr>\n",
       "    <tr>\n",
       "      <th>6</th>\n",
       "      <td>детектив</td>\n",
       "      <td>знаменитый::сыщик</td>\n",
       "      <td>ожог</td>\n",
       "      <td>сыщик</td>\n",
       "    </tr>\n",
       "    <tr>\n",
       "      <th>7</th>\n",
       "      <td>подбородок</td>\n",
       "      <td>морщинистый::щека</td>\n",
       "      <td>ресторан</td>\n",
       "      <td>щека</td>\n",
       "    </tr>\n",
       "    <tr>\n",
       "      <th>8</th>\n",
       "      <td>тырить</td>\n",
       "      <td>плутовать</td>\n",
       "      <td>министр</td>\n",
       "      <td>воровать</td>\n",
       "    </tr>\n",
       "    <tr>\n",
       "      <th>9</th>\n",
       "      <td>пожевать</td>\n",
       "      <td>прожевывать</td>\n",
       "      <td>ресница</td>\n",
       "      <td>жевать</td>\n",
       "    </tr>\n",
       "  </tbody>\n",
       "</table>\n",
       "</div>"
      ],
      "text/plain": [
       "            Aranea         Ruscorpora          rsc        target\n",
       "0           низкий          невысокий        можно       высокий\n",
       "1         обоняние      тонкий::чутье          сук           нюх\n",
       "2         тащиться              пойти        расти          идти\n",
       "3  вознамериваться      решать::тогда        шлейф        решать\n",
       "4    австралийский           японский  треугольный  американский\n",
       "5        большущий            большой       суметь      огромный\n",
       "6         детектив  знаменитый::сыщик         ожог         сыщик\n",
       "7       подбородок  морщинистый::щека     ресторан          щека\n",
       "8           тырить          плутовать      министр      воровать\n",
       "9         пожевать        прожевывать      ресница        жевать"
      ]
     },
     "execution_count": 28,
     "metadata": {},
     "output_type": "execute_result"
    }
   ],
   "source": [
    "result_ru = {'target':[], 'rsc': [], 'Ruscorpora': [], 'Aranea':[]}\n",
    "\n",
    "for word in random.choice(list(eye_embeddings_rsc.keys()), 10):\n",
    "    while(True):\n",
    "        try:\n",
    "            result = compare_nearest_neighbours(eye_embeddings_rsc, word2vec_ru_ruscorpora, word2vec_ru_araneum, word, True)\n",
    "            break\n",
    "        except KeyError:\n",
    "            word = random.choice(list(eye_embeddings_rsc.keys()))\n",
    "    result_ru['rsc'].append(result[0])\n",
    "    result_ru['Ruscorpora'].append(result[1])\n",
    "    result_ru['Aranea'].append(result[2])\n",
    "    result_ru['target'].append(word)\n",
    "DataFrame(result_ru)"
   ]
  },
  {
   "cell_type": "code",
   "execution_count": 29,
   "metadata": {
    "ExecuteTime": {
     "end_time": "2018-03-02T11:34:25.454116Z",
     "start_time": "2018-03-02T11:34:10.599505Z"
    }
   },
   "outputs": [
    {
     "data": {
      "text/html": [
       "<div>\n",
       "<style scoped>\n",
       "    .dataframe tbody tr th:only-of-type {\n",
       "        vertical-align: middle;\n",
       "    }\n",
       "\n",
       "    .dataframe tbody tr th {\n",
       "        vertical-align: top;\n",
       "    }\n",
       "\n",
       "    .dataframe thead th {\n",
       "        text-align: right;\n",
       "    }\n",
       "</style>\n",
       "<table border=\"1\" class=\"dataframe\">\n",
       "  <thead>\n",
       "    <tr style=\"text-align: right;\">\n",
       "      <th></th>\n",
       "      <th>BNC</th>\n",
       "      <th>GECO</th>\n",
       "      <th>Googlenews</th>\n",
       "      <th>target</th>\n",
       "    </tr>\n",
       "  </thead>\n",
       "  <tbody>\n",
       "    <tr>\n",
       "      <th>0</th>\n",
       "      <td>yamaichi</td>\n",
       "      <td>staying</td>\n",
       "      <td>secuirty</td>\n",
       "      <td>security</td>\n",
       "    </tr>\n",
       "    <tr>\n",
       "      <th>1</th>\n",
       "      <td>achievement</td>\n",
       "      <td>filed</td>\n",
       "      <td>sucess</td>\n",
       "      <td>success</td>\n",
       "    </tr>\n",
       "    <tr>\n",
       "      <th>2</th>\n",
       "      <td>tynecastle</td>\n",
       "      <td>hed</td>\n",
       "      <td>moving</td>\n",
       "      <td>move</td>\n",
       "    </tr>\n",
       "    <tr>\n",
       "      <th>3</th>\n",
       "      <td>Forrestal</td>\n",
       "      <td>dont</td>\n",
       "      <td>thestate</td>\n",
       "      <td>state</td>\n",
       "    </tr>\n",
       "    <tr>\n",
       "      <th>4</th>\n",
       "      <td>Cia</td>\n",
       "      <td>evidences</td>\n",
       "      <td>intel</td>\n",
       "      <td>intelligence</td>\n",
       "    </tr>\n",
       "    <tr>\n",
       "      <th>5</th>\n",
       "      <td>restriction</td>\n",
       "      <td>warned</td>\n",
       "      <td>imposes</td>\n",
       "      <td>impose</td>\n",
       "    </tr>\n",
       "    <tr>\n",
       "      <th>6</th>\n",
       "      <td>criss</td>\n",
       "      <td>call</td>\n",
       "      <td>crossed</td>\n",
       "      <td>cross</td>\n",
       "    </tr>\n",
       "    <tr>\n",
       "      <th>7</th>\n",
       "      <td>comment</td>\n",
       "      <td>gentleman</td>\n",
       "      <td>replies</td>\n",
       "      <td>reply</td>\n",
       "    </tr>\n",
       "    <tr>\n",
       "      <th>8</th>\n",
       "      <td>claymore</td>\n",
       "      <td>battering</td>\n",
       "      <td>broadsword</td>\n",
       "      <td>scimitar</td>\n",
       "    </tr>\n",
       "    <tr>\n",
       "      <th>9</th>\n",
       "      <td>oot::noo</td>\n",
       "      <td>came</td>\n",
       "      <td>raced</td>\n",
       "      <td>ran</td>\n",
       "    </tr>\n",
       "  </tbody>\n",
       "</table>\n",
       "</div>"
      ],
      "text/plain": [
       "           BNC       GECO  Googlenews        target\n",
       "0     yamaichi    staying    secuirty      security\n",
       "1  achievement      filed      sucess       success\n",
       "2   tynecastle        hed      moving          move\n",
       "3    Forrestal       dont    thestate         state\n",
       "4          Cia  evidences       intel  intelligence\n",
       "5  restriction     warned     imposes        impose\n",
       "6        criss       call     crossed         cross\n",
       "7      comment  gentleman     replies         reply\n",
       "8     claymore  battering  broadsword      scimitar\n",
       "9     oot::noo       came       raced           ran"
      ]
     },
     "execution_count": 29,
     "metadata": {},
     "output_type": "execute_result"
    }
   ],
   "source": [
    "result_en = {'target':[], 'GECO': [], 'Googlenews': [], 'BNC':[]}\n",
    "\n",
    "for word in random.choice(list(eye_embeddings_geco.keys()), 10):\n",
    "    while(True):\n",
    "        try:\n",
    "            result = compare_nearest_neighbours(eye_embeddings_geco, word2vec_en_googlenews, word2vec_en_bnc, word, True, 'en')\n",
    "            break\n",
    "        except KeyError:\n",
    "            word = random.choice(list(eye_embeddings_geco.keys()))\n",
    "    result_en['GECO'].append(result[0])\n",
    "    result_en['Googlenews'].append(result[1])\n",
    "    result_en['BNC'].append(result[2])\n",
    "    result_en['target'].append(word)\n",
    "DataFrame(result_en)"
   ]
  },
  {
   "cell_type": "code",
   "execution_count": 30,
   "metadata": {
    "ExecuteTime": {
     "end_time": "2018-03-02T11:34:29.262652Z",
     "start_time": "2018-03-02T11:34:25.456225Z"
    }
   },
   "outputs": [
    {
     "data": {
      "text/html": [
       "<div>\n",
       "<style scoped>\n",
       "    .dataframe tbody tr th:only-of-type {\n",
       "        vertical-align: middle;\n",
       "    }\n",
       "\n",
       "    .dataframe tbody tr th {\n",
       "        vertical-align: top;\n",
       "    }\n",
       "\n",
       "    .dataframe thead th {\n",
       "        text-align: right;\n",
       "    }\n",
       "</style>\n",
       "<table border=\"1\" class=\"dataframe\">\n",
       "  <thead>\n",
       "    <tr style=\"text-align: right;\">\n",
       "      <th></th>\n",
       "      <th>BNC</th>\n",
       "      <th>Googlenews</th>\n",
       "      <th>provo</th>\n",
       "      <th>target</th>\n",
       "    </tr>\n",
       "  </thead>\n",
       "  <tbody>\n",
       "    <tr>\n",
       "      <th>0</th>\n",
       "      <td>anyway</td>\n",
       "      <td>got</td>\n",
       "      <td>owls</td>\n",
       "      <td>get</td>\n",
       "    </tr>\n",
       "    <tr>\n",
       "      <th>1</th>\n",
       "      <td>unbarred</td>\n",
       "      <td>stubby_tail</td>\n",
       "      <td>treat</td>\n",
       "      <td>tail</td>\n",
       "    </tr>\n",
       "    <tr>\n",
       "      <th>2</th>\n",
       "      <td>bail</td>\n",
       "      <td>custoday</td>\n",
       "      <td>estimated</td>\n",
       "      <td>custody</td>\n",
       "    </tr>\n",
       "    <tr>\n",
       "      <th>3</th>\n",
       "      <td>horror-struck</td>\n",
       "      <td>mysteriously</td>\n",
       "      <td>listened</td>\n",
       "      <td>suddenly</td>\n",
       "    </tr>\n",
       "    <tr>\n",
       "      <th>4</th>\n",
       "      <td>american</td>\n",
       "      <td>americans</td>\n",
       "      <td>steroid</td>\n",
       "      <td>american</td>\n",
       "    </tr>\n",
       "    <tr>\n",
       "      <th>5</th>\n",
       "      <td>efficient</td>\n",
       "      <td>efficient</td>\n",
       "      <td>forming</td>\n",
       "      <td>effective</td>\n",
       "    </tr>\n",
       "    <tr>\n",
       "      <th>6</th>\n",
       "      <td>hard-muscled</td>\n",
       "      <td>felt</td>\n",
       "      <td>use</td>\n",
       "      <td>feel</td>\n",
       "    </tr>\n",
       "    <tr>\n",
       "      <th>7</th>\n",
       "      <td>enormously</td>\n",
       "      <td>immensely</td>\n",
       "      <td>forming</td>\n",
       "      <td>greatly</td>\n",
       "    </tr>\n",
       "    <tr>\n",
       "      <th>8</th>\n",
       "      <td>Creutzfeldt-jakob</td>\n",
       "      <td>infection</td>\n",
       "      <td>achieve</td>\n",
       "      <td>disease</td>\n",
       "    </tr>\n",
       "    <tr>\n",
       "      <th>9</th>\n",
       "      <td>five-storey</td>\n",
       "      <td>Exume_tried</td>\n",
       "      <td>shell</td>\n",
       "      <td>block</td>\n",
       "    </tr>\n",
       "  </tbody>\n",
       "</table>\n",
       "</div>"
      ],
      "text/plain": [
       "                 BNC    Googlenews      provo     target\n",
       "0             anyway           got       owls        get\n",
       "1           unbarred   stubby_tail      treat       tail\n",
       "2               bail      custoday  estimated    custody\n",
       "3      horror-struck  mysteriously   listened   suddenly\n",
       "4           american     americans    steroid   american\n",
       "5          efficient     efficient    forming  effective\n",
       "6       hard-muscled          felt        use       feel\n",
       "7         enormously     immensely    forming    greatly\n",
       "8  Creutzfeldt-jakob     infection    achieve    disease\n",
       "9        five-storey   Exume_tried      shell      block"
      ]
     },
     "execution_count": 30,
     "metadata": {},
     "output_type": "execute_result"
    }
   ],
   "source": [
    "result_en = {'target':[], 'provo': [], 'Googlenews': [], 'BNC':[]}\n",
    "\n",
    "for word in random.choice(list(eye_embeddings_provo.keys()), 10):\n",
    "    while(True):\n",
    "        try:\n",
    "            result = compare_nearest_neighbours(eye_embeddings_provo, word2vec_en_googlenews, word2vec_en_bnc, word, True, 'en')\n",
    "            break\n",
    "        except KeyError:\n",
    "            word = random.choice(list(eye_embeddings_provo.keys()))\n",
    "    result_en['provo'].append(result[0])\n",
    "    result_en['Googlenews'].append(result[1])\n",
    "    result_en['BNC'].append(result[2])\n",
    "    result_en['target'].append(word)\n",
    "DataFrame(result_en)"
   ]
  },
  {
   "cell_type": "markdown",
   "metadata": {},
   "source": [
    "# Regression model"
   ]
  },
  {
   "cell_type": "code",
   "execution_count": 31,
   "metadata": {
    "ExecuteTime": {
     "end_time": "2018-03-02T11:34:37.840382Z",
     "start_time": "2018-03-02T11:34:29.264764Z"
    }
   },
   "outputs": [],
   "source": [
    "models_ru = [(word2vec_ru_araneum, 'Aranea'),\n",
    "         (word2vec_ru_ruscorpora, 'Ruscorpora')]\n",
    "\n",
    "results_regression_ru = defaultdict(lambda: {})\n",
    "\n",
    "for model, model_name in models_ru:\n",
    "    for feature in eye_tracking_data[rsc].columns[2:]:\n",
    "        X = []\n",
    "        y = []\n",
    "        dst = eye_tracking_data[rsc][['word',feature]]\n",
    "        for i, k in dst.iterrows():\n",
    "            if add_pos_tag(k[0]) in model.vocab:\n",
    "                y.append(k[1])\n",
    "                X.append(model[add_pos_tag(k[0])])   \n",
    "        X_train, X_test = train_test_split(X, test_size=1/4)\n",
    "        y_train, y_test = train_test_split(y, test_size=1/4)\n",
    "        clf = Ridge(alpha=1.0)\n",
    "        clf.fit(X_train, y_train) \n",
    "        predictions = clf.predict(X_test)\n",
    "        results_regression_ru[model_name][feature] = round(mean_squared_error(predictions, y_test), 2)"
   ]
  },
  {
   "cell_type": "code",
   "execution_count": 32,
   "metadata": {
    "ExecuteTime": {
     "end_time": "2018-03-02T11:34:37.846703Z",
     "start_time": "2018-03-02T11:34:37.842532Z"
    }
   },
   "outputs": [],
   "source": [
    "russian_regression = DataFrame({'Aranea': results_regression_ru['Aranea'], 'Ruscorpora':results_regression_ru['Ruscorpora']})"
   ]
  },
  {
   "cell_type": "code",
   "execution_count": 33,
   "metadata": {
    "ExecuteTime": {
     "end_time": "2018-03-02T11:34:37.987344Z",
     "start_time": "2018-03-02T11:34:37.848691Z"
    }
   },
   "outputs": [
    {
     "data": {
      "text/plain": [
       "twoplus_fix                    0.01\n",
       "IA_REGRESSION_IN               0.01\n",
       "landing                        0.01\n",
       "one_fix                        0.01\n",
       "IA_REGRESSION_OUT_FULL         0.02\n",
       "dir                            0.02\n",
       "IA_SKIP                        0.02\n",
       "IA_FIRST_RUN_FIXATION_COUNT    0.03\n",
       "average.accuracy               0.04\n",
       "IA_LEGAL                       0.09\n",
       "Name: Ruscorpora, dtype: float64"
      ]
     },
     "execution_count": 33,
     "metadata": {},
     "output_type": "execute_result"
    }
   ],
   "source": [
    "russian_regression.Ruscorpora.sort_values()[:10]"
   ]
  },
  {
   "cell_type": "code",
   "execution_count": 34,
   "metadata": {
    "ExecuteTime": {
     "end_time": "2018-03-02T11:34:38.066609Z",
     "start_time": "2018-03-02T11:34:37.988643Z"
    }
   },
   "outputs": [
    {
     "data": {
      "text/plain": [
       "twoplus_fix                    0.01\n",
       "IA_REGRESSION_IN               0.01\n",
       "IA_REGRESSION_OUT_FULL         0.01\n",
       "landing                        0.01\n",
       "dir                            0.02\n",
       "IA_SKIP                        0.02\n",
       "one_fix                        0.02\n",
       "IA_FIRST_RUN_FIXATION_COUNT    0.03\n",
       "average.accuracy               0.04\n",
       "IA_LEGAL                       0.09\n",
       "Name: Aranea, dtype: float64"
      ]
     },
     "execution_count": 34,
     "metadata": {},
     "output_type": "execute_result"
    }
   ],
   "source": [
    "russian_regression.Aranea.sort_values()[:10]"
   ]
  },
  {
   "cell_type": "code",
   "execution_count": 35,
   "metadata": {
    "ExecuteTime": {
     "end_time": "2018-03-02T11:35:04.942075Z",
     "start_time": "2018-03-02T11:34:38.068738Z"
    }
   },
   "outputs": [],
   "source": [
    "models_en = [(word2vec_en_googlenews, 'Googlenews'),\n",
    "             (word2vec_en_bnc, 'BNC')]\n",
    "\n",
    "results_regression_en = defaultdict(lambda: {})\n",
    "\n",
    "for model, model_name in models_en:\n",
    "    for feature in eye_tracking_data[geco].columns[2:]:\n",
    "        X = []\n",
    "        y = []\n",
    "        dst = eye_tracking_data[geco][['word',feature]]\n",
    "        for i, k in dst.iterrows():\n",
    "            if model_name != 'Googlenews':\n",
    "                if add_pos_tag(k[0], 'en') in model.vocab:\n",
    "                    y.append(k[1])\n",
    "                    X.append(model[add_pos_tag(k[0], 'en')]) \n",
    "            else:\n",
    "                if k[0] in model.vocab:\n",
    "                    y.append(k[1])\n",
    "                    X.append(model[k[0]])\n",
    "        X_train, X_test = train_test_split(X, test_size=1/4)\n",
    "        y_train, y_test = train_test_split(y, test_size=1/4)\n",
    "        clf = Ridge(alpha=1.0)\n",
    "        clf.fit(X_train, y_train) \n",
    "        predictions = clf.predict(X_test)\n",
    "        results_regression_en[model_name][feature] = mean_squared_error(predictions, y_test)"
   ]
  },
  {
   "cell_type": "code",
   "execution_count": 36,
   "metadata": {
    "ExecuteTime": {
     "end_time": "2018-03-02T11:35:04.948656Z",
     "start_time": "2018-03-02T11:35:04.944242Z"
    }
   },
   "outputs": [],
   "source": [
    "geco_regression = DataFrame({'Googlenews':results_regression_en['Googlenews'], 'BNC':results_regression_en['BNC']})"
   ]
  },
  {
   "cell_type": "code",
   "execution_count": 37,
   "metadata": {
    "ExecuteTime": {
     "end_time": "2018-03-02T11:35:05.045972Z",
     "start_time": "2018-03-02T11:35:04.950634Z"
    }
   },
   "outputs": [
    {
     "data": {
      "text/plain": [
       "WORD_THIRD_RUN_FIXATION_%         1.750988e-07\n",
       "WORD_SECOND_RUN_FIXATION_%        3.380094e-06\n",
       "WORD_FIRST_RUN_FIXATION_%         1.403519e-05\n",
       "WORD_FIXATION_%                   2.339347e-05\n",
       "WORD_TOTAL_READING_TIME_%         2.536115e-05\n",
       "WORD_THIRD_RUN_FIXATION_COUNT     2.387210e-03\n",
       "WORD_SECOND_RUN_FIXATION_COUNT    2.026677e-02\n",
       "WORD_SKIP                         2.625370e-02\n",
       "WORD_FIRST_FIX_PROGRESSIVE        3.220510e-02\n",
       "WORD_THIRD_FIXATION_RUN           3.576946e-02\n",
       "Name: BNC, dtype: float64"
      ]
     },
     "execution_count": 37,
     "metadata": {},
     "output_type": "execute_result"
    }
   ],
   "source": [
    "geco_regression.BNC.sort_values()[:10]"
   ]
  },
  {
   "cell_type": "code",
   "execution_count": 38,
   "metadata": {
    "ExecuteTime": {
     "end_time": "2018-03-02T11:35:05.120889Z",
     "start_time": "2018-03-02T11:35:05.047955Z"
    }
   },
   "outputs": [
    {
     "data": {
      "text/plain": [
       "WORD_THIRD_RUN_FIXATION_%         5.429686e-07\n",
       "WORD_SECOND_RUN_FIXATION_%        4.403462e-06\n",
       "WORD_FIRST_RUN_FIXATION_%         1.461357e-05\n",
       "WORD_FIXATION_%                   2.941411e-05\n",
       "WORD_TOTAL_READING_TIME_%         4.257606e-05\n",
       "WORD_THIRD_RUN_FIXATION_COUNT     4.354629e-03\n",
       "WORD_FIRST_FIX_PROGRESSIVE        3.284470e-02\n",
       "WORD_SKIP                         3.551326e-02\n",
       "WORD_SECOND_RUN_FIXATION_COUNT    3.793351e-02\n",
       "WORD_THIRD_FIXATION_RUN           4.760168e-02\n",
       "Name: Googlenews, dtype: float64"
      ]
     },
     "execution_count": 38,
     "metadata": {},
     "output_type": "execute_result"
    }
   ],
   "source": [
    "geco_regression.Googlenews.sort_values()[:10]"
   ]
  },
  {
   "cell_type": "code",
   "execution_count": 39,
   "metadata": {
    "ExecuteTime": {
     "end_time": "2018-03-02T11:35:21.887532Z",
     "start_time": "2018-03-02T11:35:05.122632Z"
    }
   },
   "outputs": [],
   "source": [
    "models_en = [(word2vec_en_googlenews, 'Googlenews'),\n",
    "             (word2vec_en_bnc, 'BNC')]\n",
    "\n",
    "results_regression_en = defaultdict(lambda: {})\n",
    "\n",
    "for model, model_name in models_en:\n",
    "    for feature in eye_tracking_data[provo].columns[2:]:\n",
    "        X = []\n",
    "        y = []\n",
    "        dst = eye_tracking_data[provo][['word',feature]]\n",
    "        for i, k in dst.iterrows():\n",
    "            if model_name != 'Googlenews':\n",
    "                if add_pos_tag(k[0], 'en') in model.vocab:\n",
    "                    y.append(k[1])\n",
    "                    X.append(model[add_pos_tag(k[0], 'en')]) \n",
    "            else:\n",
    "                if k[0] in model.vocab:\n",
    "                    y.append(k[1])\n",
    "                    X.append(model[k[0]])\n",
    "        X_train, X_test = train_test_split(X, test_size=1/4)\n",
    "        y_train, y_test = train_test_split(y, test_size=1/4)\n",
    "        clf = Ridge(alpha=1.0)\n",
    "        clf.fit(X_train, y_train) \n",
    "        predictions = clf.predict(X_test)\n",
    "        results_regression_en[model_name][feature] = mean_squared_error(predictions, y_test)"
   ]
  },
  {
   "cell_type": "code",
   "execution_count": 40,
   "metadata": {
    "ExecuteTime": {
     "end_time": "2018-03-02T11:35:21.893920Z",
     "start_time": "2018-03-02T11:35:21.889711Z"
    }
   },
   "outputs": [],
   "source": [
    "provo_regression = DataFrame({'Googlenews':results_regression_en['Googlenews'], 'BNC':results_regression_en['BNC']})"
   ]
  },
  {
   "cell_type": "code",
   "execution_count": 41,
   "metadata": {
    "ExecuteTime": {
     "end_time": "2018-03-02T11:35:21.982492Z",
     "start_time": "2018-03-02T11:35:21.895913Z"
    }
   },
   "outputs": [
    {
     "data": {
      "text/plain": [
       "WORD_THIRD_RUN_FIXATION_%         1.750988e-07\n",
       "WORD_SECOND_RUN_FIXATION_%        3.380094e-06\n",
       "WORD_FIRST_RUN_FIXATION_%         1.403519e-05\n",
       "WORD_FIXATION_%                   2.339347e-05\n",
       "WORD_TOTAL_READING_TIME_%         2.536115e-05\n",
       "WORD_THIRD_RUN_FIXATION_COUNT     2.387210e-03\n",
       "WORD_SECOND_RUN_FIXATION_COUNT    2.026677e-02\n",
       "WORD_SKIP                         2.625370e-02\n",
       "WORD_FIRST_FIX_PROGRESSIVE        3.220510e-02\n",
       "WORD_THIRD_FIXATION_RUN           3.576946e-02\n",
       "Name: BNC, dtype: float64"
      ]
     },
     "execution_count": 41,
     "metadata": {},
     "output_type": "execute_result"
    }
   ],
   "source": [
    "geco_regression.BNC.sort_values()[:10]"
   ]
  },
  {
   "cell_type": "code",
   "execution_count": 42,
   "metadata": {
    "ExecuteTime": {
     "end_time": "2018-03-02T11:35:22.068339Z",
     "start_time": "2018-03-02T11:35:21.984475Z"
    }
   },
   "outputs": [
    {
     "data": {
      "text/plain": [
       "WORD_THIRD_RUN_FIXATION_%         5.429686e-07\n",
       "WORD_SECOND_RUN_FIXATION_%        4.403462e-06\n",
       "WORD_FIRST_RUN_FIXATION_%         1.461357e-05\n",
       "WORD_FIXATION_%                   2.941411e-05\n",
       "WORD_TOTAL_READING_TIME_%         4.257606e-05\n",
       "WORD_THIRD_RUN_FIXATION_COUNT     4.354629e-03\n",
       "WORD_FIRST_FIX_PROGRESSIVE        3.284470e-02\n",
       "WORD_SKIP                         3.551326e-02\n",
       "WORD_SECOND_RUN_FIXATION_COUNT    3.793351e-02\n",
       "WORD_THIRD_FIXATION_RUN           4.760168e-02\n",
       "Name: Googlenews, dtype: float64"
      ]
     },
     "execution_count": 42,
     "metadata": {},
     "output_type": "execute_result"
    }
   ],
   "source": [
    "geco_regression.Googlenews.sort_values()[:10]"
   ]
  },
  {
   "cell_type": "code",
   "execution_count": null,
   "metadata": {},
   "outputs": [],
   "source": []
  }
 ],
 "metadata": {
  "kernelspec": {
   "display_name": "Python 3",
   "language": "python",
   "name": "python3"
  },
  "language_info": {
   "codemirror_mode": {
    "name": "ipython",
    "version": 3
   },
   "file_extension": ".py",
   "mimetype": "text/x-python",
   "name": "python",
   "nbconvert_exporter": "python",
   "pygments_lexer": "ipython3",
   "version": "3.6.0"
  },
  "toc": {
   "colors": {
    "hover_highlight": "#DAA520",
    "running_highlight": "#FF0000",
    "selected_highlight": "#FFD700"
   },
   "moveMenuLeft": true,
   "nav_menu": {
    "height": "12px",
    "width": "252px"
   },
   "navigate_menu": true,
   "number_sections": true,
   "sideBar": true,
   "threshold": 4,
   "toc_cell": false,
   "toc_section_display": "block",
   "toc_window_display": false
  }
 },
 "nbformat": 4,
 "nbformat_minor": 2
}
