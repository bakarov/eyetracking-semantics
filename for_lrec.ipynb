{
 "cells": [
  {
   "cell_type": "code",
   "execution_count": 1,
   "metadata": {},
   "outputs": [
    {
     "name": "stderr",
     "output_type": "stream",
     "text": [
      "Using Theano backend.\n"
     ]
    },
    {
     "data": {
      "text/plain": [
       "{'divide': 'ignore', 'invalid': 'ignore', 'over': 'ignore', 'under': 'ignore'}"
      ]
     },
     "execution_count": 1,
     "metadata": {},
     "output_type": "execute_result"
    }
   ],
   "source": [
    "from pandas import DataFrame, read_csv, concat\n",
    "from csv import reader\n",
    "from numpy import mean, array, zeros, errstate, seterr, isfinite\n",
    "from collections import defaultdict\n",
    "from scipy.spatial.distance import cosine\n",
    "from scipy.stats import spearmanr\n",
    "from os import path\n",
    "from gensim.models import KeyedVectors, Word2Vec\n",
    "from pymorphy2 import MorphAnalyzer\n",
    "from itertools import product\n",
    "\n",
    "morph = MorphAnalyzer()\n",
    "seterr(all='raise')"
   ]
  },
  {
   "cell_type": "code",
   "execution_count": 2,
   "metadata": {
    "collapsed": true
   },
   "outputs": [],
   "source": [
    "# df_en = DataFrame.from_csv('data/eye-tracking/eye_tracking_data_en_raw.csv').reset_index(drop=True)"
   ]
  },
  {
   "cell_type": "code",
   "execution_count": 3,
   "metadata": {
    "collapsed": true
   },
   "outputs": [],
   "source": [
    "# df_ru = DataFrame.from_csv('data/eye-tracking/eye_tracking_data_ru.csv')"
   ]
  },
  {
   "cell_type": "markdown",
   "metadata": {},
   "source": [
    "Load raw messy corpus proposed by the Laboratory of Neurolinguistics and transform it to a decent dataset"
   ]
  },
  {
   "cell_type": "code",
   "execution_count": 4,
   "metadata": {
    "collapsed": true
   },
   "outputs": [],
   "source": [
    "# with open(path.join('data', 'data.csv'), mode='r') as infile:\n",
    "#     corpus_bytes = reader(infile)\n",
    "#     corpus = [i for i in corpus_bytes]\n",
    "\n",
    "# corpus = [i[0].split('\\t') if len(i) == 1 else ''.join(i).split('\\t') for i in corpus]\n",
    "# df = DataFrame(corpus[1:], columns=corpus[0])"
   ]
  },
  {
   "cell_type": "markdown",
   "metadata": {},
   "source": [
    "Amount of unique words in a corpus"
   ]
  },
  {
   "cell_type": "code",
   "execution_count": 5,
   "metadata": {
    "collapsed": true
   },
   "outputs": [],
   "source": [
    "# len(df['word.id'].unique())"
   ]
  },
  {
   "cell_type": "markdown",
   "metadata": {},
   "source": [
    "Aggregate corpus data by unqiue words"
   ]
  },
  {
   "cell_type": "code",
   "execution_count": 6,
   "metadata": {
    "collapsed": true
   },
   "outputs": [],
   "source": [
    "# df_en = df_en.astype('str').groupby('Word_Cleaned').agg({\n",
    "#                             'IA_DWELL_TIME': ', '.join,\n",
    "#                             'IA_FIRST_FIXATION_DURATION': ', '.join,\n",
    "#                             'IA_FIRST_FIXATION_VISITED_IA_COUNT': ', '.join,\n",
    "#                             'IA_FIRST_FIXATION_X': ', '.join,\n",
    "#                             'IA_FIRST_FIXATION_Y': ', '.join,\n",
    "#                             'IA_FIRST_FIX_PROGRESSIVE': ', '.join,\n",
    "#                             'IA_FIRST_FIXATION_TIME': ', '.join,\n",
    "#                             'IA_FIRST_RUN_DWELL_TIME': ', '.join,\n",
    "#                             'IA_FIRST_RUN_START_TIME': ', '.join,\n",
    "#                             'IA_FIRST_RUN_END_TIME': ', '.join,\n",
    "#                             'IA_FIRST_FIXATION_TIME': ', '.join,\n",
    "#                             'IA_FIRST_RUN_FIXATION_COUNT': ', '.join,\n",
    "#                             'IA_DWELL_TIME': ', '.join,\n",
    "#                             'IA_FIXATION_COUNT': ', '.join,\n",
    "#                             'IA_RUN_COUNT': ', '.join,\n",
    "#                             'IA_SKIP': ', '.join,\n",
    "#                             'IA_REGRESSION_IN': ', '.join,\n",
    "#                             'IA_REGRESSION_IN_COUNT': ', '.join,\n",
    "#                             'IA_REGRESSION_OUT': ', '.join,\n",
    "#                             'IA_REGRESSION_OUT_COUNT': ', '.join,\n",
    "#                             'IA_REGRESSION_OUT_FULL': ', '.join,\n",
    "#                             'IA_REGRESSION_OUT_FULL_COUNT': ', '.join,\n",
    "#                             'IA_REGRESSION_PATH_DURATION': ', '.join,\n",
    "#                             'IA_REGRESSION_OUT_FULL_COUNT': ', '.join,\n",
    "#                             'IA_REGRESSION_PATH_DURATION': ', '.join,\n",
    "#                             'IA_FIRST_SACCADE_AMPLITUDE': ', '.join,\n",
    "#                             'IA_FIRST_SACCADE_ANGLE': ', '.join,\n",
    "#                             'IA_FIRST_SACCADE_END_TIME': ', '.join,\n",
    "#                             'IA_FIRST_SACCADE_START_TIME': ', '.join\n",
    "#                         }).reset_index()"
   ]
  },
  {
   "cell_type": "code",
   "execution_count": 7,
   "metadata": {
    "collapsed": true
   },
   "outputs": [],
   "source": [
    "# df = df.groupby('Lemma').agg({\n",
    "#                             'average.accuracy': ', '.join,\n",
    "#                             'IA_DWELL_TIME': ', '.join,\n",
    "#                             'IA_FIRST_FIXATION_DURATION': ', '.join,\n",
    "#                             'IA_FIRST_RUN_DWELL_TIME': ', '.join,\n",
    "#                             'IA_FIRST_RUN_FIXATION_COUNT': ', '.join,\n",
    "#                             'IA_FIXATION_COUNT': ', '.join,\n",
    "#                             'IA_LEGAL': ', '.join,\n",
    "#                             'IA_REGRESSION_IN': ', '.join,\n",
    "#                             'IA_REGRESSION_OUT_FULL': ', '.join,\n",
    "#                             'IA_REGRESSION_PATH_DURATION': ', '.join,\n",
    "#                             'IA_SECOND_RUN_DWELL_TIME': ', '.join,\n",
    "#                             'ao': ', '.join,\n",
    "#                             'IA_SELECTIVE_REGRESSION_PATH_DURATION': ', '.join,\n",
    "#                             'IA_SKIP': ', '.join,\n",
    "#                             'IA_SPILLOVER': ', '.join,\n",
    "#                             'landing': ', '.join,\n",
    "#                             'dir': ', '.join,\n",
    "#                             'fixated.letter': ', '.join,\n",
    "#                             'one_fix': ', '.join,\n",
    "#                             'twoplus_fix': ', '.join,\n",
    "#                             'logit.acc': ', '.join,\n",
    "#                         }).reset_index()"
   ]
  },
  {
   "cell_type": "markdown",
   "metadata": {},
   "source": [
    "Serialize transformed dataset"
   ]
  },
  {
   "cell_type": "code",
   "execution_count": 8,
   "metadata": {
    "collapsed": true
   },
   "outputs": [],
   "source": [
    "# df_ru.to_csv('data/eye-tracking/eye_tracking_data_ru.csv')\n",
    "df_ru = DataFrame.from_csv('data/eye-tracking/eye_tracking_data_ru.csv').fillna(',')"
   ]
  },
  {
   "cell_type": "code",
   "execution_count": 9,
   "metadata": {
    "collapsed": true
   },
   "outputs": [],
   "source": [
    "# df_en[7:].reset_index(drop=True).to_csv('data/eye-tracking/eye_tracking_data_en.csv')\n",
    "df_en = DataFrame.from_csv('data/eye-tracking/eye_tracking_data_en.csv').fillna(',')"
   ]
  },
  {
   "cell_type": "code",
   "execution_count": 10,
   "metadata": {
    "collapsed": true
   },
   "outputs": [],
   "source": [
    "ru_en_dict = DataFrame.from_csv('data/dictionaries/en-ru-dict.csv')"
   ]
  },
  {
   "cell_type": "markdown",
   "metadata": {},
   "source": [
    "Calculate mean value of aggregated values for each word in the dataset"
   ]
  },
  {
   "cell_type": "code",
   "execution_count": 11,
   "metadata": {
    "collapsed": true
   },
   "outputs": [],
   "source": [
    "def calculate_mean(df, na):\n",
    "    for column in df:\n",
    "        for i in range(len(df)):\n",
    "            try:\n",
    "                values = list(filter(lambda a: a != na, [a.strip() for a in df[column][i].split(',')]))\n",
    "                if not values:\n",
    "                    df[column][i] = 0\n",
    "                    continue\n",
    "                df[column][i] = mean([float(a) for a in values])\n",
    "            except ValueError: # if column is a column of words\n",
    "                continue \n",
    "            except FloatingPointError: # if all are NA\n",
    "                df[column][i] = 0\n",
    "    return df"
   ]
  },
  {
   "cell_type": "code",
   "execution_count": 12,
   "metadata": {},
   "outputs": [],
   "source": [
    "df_en = calculate_mean(df_en, 'nan')\n",
    "df_ru = calculate_mean(df_ru, 'NA')"
   ]
  },
  {
   "cell_type": "markdown",
   "metadata": {},
   "source": [
    "Loading and processing dataset of human judgements of embeddings"
   ]
  },
  {
   "cell_type": "code",
   "execution_count": 13,
   "metadata": {
    "collapsed": true
   },
   "outputs": [],
   "source": [
    "def load_sim_dataset(name, embeddings, verbose=False):\n",
    "    df = read_csv(path.join('data', '{}.csv'.format(name))).dropna()\n",
    "    old_len = len(df)\n",
    "    for i, m in df.iterrows():\n",
    "        if not m['word1'] in embeddings or not m['word2'] in embeddings:\n",
    "            df.drop(i, inplace=True)\n",
    "    if verbose:\n",
    "        print('Percent of dropped = {:2.1f}%, amount of remanining words = {}'.format((old_len - len(df))/old_len*100, len(df)))\n",
    "    return df.reset_index(drop=True)"
   ]
  },
  {
   "cell_type": "code",
   "execution_count": 14,
   "metadata": {
    "collapsed": true
   },
   "outputs": [],
   "source": [
    "def make_sims_dataset(dataset, embeddings):\n",
    "    sims = zeros(shape=len(dataset), dtype='float32')\n",
    "    for i, m in dataset.iterrows():\n",
    "        sims[i] = 1 - cosine(embeddings[m['word1']], embeddings[m['word2']])\n",
    "    return sims"
   ]
  },
  {
   "cell_type": "code",
   "execution_count": 15,
   "metadata": {
    "collapsed": true
   },
   "outputs": [],
   "source": [
    "def make_word2vec_dataset(dataset, model):\n",
    "    sims = zeros(shape=len(dataset), dtype='float32')\n",
    "    for i, m in dataset.iterrows():\n",
    "        sims[i] = 1 - cosine(model[add_pos_tag(m['word1'])], model[add_pos_tag(m['word2'])])\n",
    "    return sims"
   ]
  },
  {
   "cell_type": "code",
   "execution_count": 16,
   "metadata": {
    "collapsed": true
   },
   "outputs": [],
   "source": [
    "def make_word2vec_eye_dataset(dataset, model):\n",
    "    pairs = list(product(dataset, repeat=2))\n",
    "    sims_w2v = zeros(shape=len(pairs), dtype='float32')\n",
    "    sims_eye = zeros(shape=len(pairs), dtype='float32')\n",
    "    for i in enumerate(pairs):\n",
    "        try:\n",
    "            sims_w2v[i[0]] = 1 - cosine(model[add_pos_tag(i[1][0])], model[add_pos_tag(i[1][1])])\n",
    "            sims_eye[i[0]] = 1 - cosine(dataset[i[1][0]], dataset[i[1][1]])\n",
    "        except KeyError:\n",
    "            continue\n",
    "    return sims_w2v, sims_eye"
   ]
  },
  {
   "cell_type": "markdown",
   "metadata": {},
   "source": [
    "Load Word2Vec-model"
   ]
  },
  {
   "cell_type": "code",
   "execution_count": 17,
   "metadata": {
    "collapsed": true
   },
   "outputs": [],
   "source": [
    "rusvectores = KeyedVectors.load_word2vec_format(path.join('..', 'models', 'rusvectores.bin'), binary=True)"
   ]
  },
  {
   "cell_type": "code",
   "execution_count": 18,
   "metadata": {
    "collapsed": true
   },
   "outputs": [],
   "source": [
    "def add_pos_tag(word):\n",
    "    tag = str(morph.parse(word)[0].tag.POS)\n",
    "    if tag == 'ADJF':\n",
    "        tag = 'ADJ'\n",
    "    elif tag == 'INFN':\n",
    "        tag = 'VERB'\n",
    "    if word == 'объем': \n",
    "        tag = 'NOUN'\n",
    "    if word == 'струя':\n",
    "        tag = 'NOUN'\n",
    "    if word == 'чай':\n",
    "        tag = 'NOUN'\n",
    "    if word == 'два':\n",
    "        word = 'двадцать'\n",
    "        tag = 'NUM'\n",
    "    return '{}_{}'.format(word, tag)"
   ]
  },
  {
   "cell_type": "markdown",
   "metadata": {},
   "source": [
    "Make a comparison"
   ]
  },
  {
   "cell_type": "code",
   "execution_count": 19,
   "metadata": {},
   "outputs": [],
   "source": [
    "eye_embeddings_en = {}\n",
    "eye_embeddings_en_ru = {}\n",
    "\n",
    "for i, k in df_en.iloc[:,0:len(df_en.columns)].iterrows():\n",
    "    try:\n",
    "        eye_embeddings_en_ru[ru_en_dict[ru_en_dict['en'] == k['Word_Cleaned']].iloc[0, 1]] = array(k[1:].values)\n",
    "        eye_embeddings_en[k['Word_Cleaned']] = array(k[1:].values)\n",
    "    except IndexError: # no such word in the en-ru dict\n",
    "        continue"
   ]
  },
  {
   "cell_type": "code",
   "execution_count": 20,
   "metadata": {},
   "outputs": [],
   "source": [
    "eye_embeddings_ru = {}\n",
    "eye_embeddings_ru_en = {}\n",
    "\n",
    "for i, k in df_ru.iloc[:,0:len(df_ru.columns)].iterrows():\n",
    "    try:\n",
    "        eye_embeddings_ru_en[ru_en_dict[ru_en_dict['ru'] == k['Lemma']].iloc[0, 0]] = array(k[1:].values)\n",
    "        eye_embeddings_ru[k['Lemma']] = array(k[1:].values)\n",
    "    except IndexError: # no such word in the en-ru dict\n",
    "        continue"
   ]
  },
  {
   "cell_type": "code",
   "execution_count": 21,
   "metadata": {},
   "outputs": [
    {
     "name": "stdout",
     "output_type": "stream",
     "text": [
      "Dataset: RuSimLex999\n",
      "Percent of dropped = 99.1%, amount of remanining words = 9\n",
      "Correlation with Russian human judgements of Russian gaze vectors: SpearmanrResult(correlation=0.46666666666666662, pvalue=0.20538635110581185)\n",
      "\n",
      "Percent of dropped = 98.7%, amount of remanining words = 13\n",
      "Correlation with Russian human judgements of English gaze vectors: SpearmanrResult(correlation=-0.40387622927148609, pvalue=0.1711139633176631)\n",
      "=================================\n",
      "\n",
      "Dataset: RuSimLex965\n",
      "Percent of dropped = 99.1%, amount of remanining words = 9\n",
      "Correlation with Russian human judgements of Russian gaze vectors: SpearmanrResult(correlation=0.46666666666666662, pvalue=0.20538635110581185)\n",
      "\n",
      "Percent of dropped = 98.7%, amount of remanining words = 13\n",
      "Correlation with Russian human judgements of English gaze vectors: SpearmanrResult(correlation=-0.40387622927148609, pvalue=0.1711139633176631)\n",
      "=================================\n",
      "\n",
      "Dataset: HJ: Human Judgements of Word Pairs\n",
      "Percent of dropped = 97.0%, amount of remanining words = 12\n",
      "Correlation with Russian human judgements of Russian gaze vectors: SpearmanrResult(correlation=0.63140213609018703, pvalue=0.027660382358538398)\n",
      "\n",
      "Percent of dropped = 97.2%, amount of remanining words = 11\n",
      "Correlation with Russian human judgements of English gaze vectors: SpearmanrResult(correlation=-0.30593926253473952, pvalue=0.36021116844817647)\n",
      "=================================\n",
      "\n"
     ]
    }
   ],
   "source": [
    "for name, printed_name in [\n",
    "                ('human_judgements/ru/simlex999', 'RuSimLex999'),\n",
    "                ('human_judgements/ru/simlex965', 'RuSimLex965'),\n",
    "                ('human_judgements/ru/hj', 'HJ: Human Judgements of Word Pairs'),\n",
    "                # ('human_judgements/ru/rt', 'RT: Synonyms and Hypernyms from the Thesaurus RuThes'), \n",
    "                # ('human_judgements/ru/ae2', 'AE: Cognitive Associations from the Sociation.org Experiment'),\n",
    "                ]:\n",
    "        print('Dataset: {}'.format(printed_name))\n",
    "        \n",
    "        dataset = load_sim_dataset(name, eye_embeddings_ru, True)\n",
    "        eye_sims_ru = make_sims_dataset(dataset, eye_embeddings_ru)\n",
    "        print('Correlation with Russian human judgements of Russian gaze vectors: {}'.format(spearmanr(eye_sims_ru, dataset.sim)))\n",
    "        print()\n",
    "        \n",
    "        dataset = load_sim_dataset(name, eye_embeddings_en_ru, True)\n",
    "        eye_sims_en = make_sims_dataset(dataset, eye_embeddings_en_ru)\n",
    "        print('Correlation with Russian human judgements of English gaze vectors: {}'.format(spearmanr(eye_sims_en, dataset.sim)))\n",
    "        print('=================================')\n",
    "        print()"
   ]
  },
  {
   "cell_type": "code",
   "execution_count": 22,
   "metadata": {},
   "outputs": [
    {
     "name": "stdout",
     "output_type": "stream",
     "text": [
      "wordsim353\n",
      "Percent of dropped = 95.6%, amount of remanining words = 11\n",
      "Correlation with English human judgements of English gaze vectors: SpearmanrResult(correlation=0.045662100456621002, pvalue=0.8939472667125955)\n",
      "\n",
      "Percent of dropped = 97.6%, amount of remanining words = 6\n",
      "Correlation with English human judgements of Russian gaze vectors: SpearmanrResult(correlation=0.52179393208720359, pvalue=0.28834323380039373)\n",
      "=================================\n"
     ]
    }
   ],
   "source": [
    "for name, printed_name in [\n",
    "                ('human_judgements/en/wordsim353-rel', 'wordsim353'),\n",
    "                ]:\n",
    "        print('{}'.format(printed_name))\n",
    "        \n",
    "        dataset = load_sim_dataset(name, eye_embeddings_en, True)\n",
    "        eye_sims_en = make_sims_dataset(dataset, eye_embeddings_en)\n",
    "        print('Correlation with English human judgements of English gaze vectors: {}'.format(spearmanr(eye_sims_en, dataset.similarity)))\n",
    "        print()\n",
    "        \n",
    "        dataset = load_sim_dataset(name, eye_embeddings_ru_en, True)\n",
    "        eye_sims_ru = make_sims_dataset(dataset, eye_embeddings_ru_en)\n",
    "        print('Correlation with English human judgements of Russian gaze vectors: {}'.format(spearmanr(eye_sims_ru, dataset.similarity)))\n",
    "        print('=================================')"
   ]
  },
  {
   "cell_type": "code",
   "execution_count": 23,
   "metadata": {},
   "outputs": [
    {
     "data": {
      "text/plain": [
       "{'divide': 'raise', 'invalid': 'raise', 'over': 'raise', 'under': 'raise'}"
      ]
     },
     "execution_count": 23,
     "metadata": {},
     "output_type": "execute_result"
    }
   ],
   "source": [
    "seterr(all='ignore')"
   ]
  },
  {
   "cell_type": "code",
   "execution_count": 24,
   "metadata": {},
   "outputs": [
    {
     "name": "stdout",
     "output_type": "stream",
     "text": [
      "Correlation with Russian gaze vectors of Russian Word2Vec: SpearmanrResult(correlation=0.05731156233054166, pvalue=0.57113821901772477)\n",
      "Correlation with English gaze vectors of Russian Word2Vec: SpearmanrResult(correlation=0.23347709121972271, pvalue=0.019396284819312579)\n"
     ]
    }
   ],
   "source": [
    "print('Correlation with Russian gaze vectors of Russian Word2Vec: {}'.format(spearmanr(*make_word2vec_eye_dataset(eye_embeddings_ru, rusvectores))))\n",
    "print('Correlation with English gaze vectors of Russian Word2Vec: {}'.format(spearmanr(*make_word2vec_eye_dataset(eye_embeddings_en_ru, rusvectores))))"
   ]
  },
  {
   "cell_type": "markdown",
   "metadata": {},
   "source": [
    "Draw plots"
   ]
  },
  {
   "cell_type": "code",
   "execution_count": 1,
   "metadata": {},
   "outputs": [
    {
     "data": {
      "image/png": "[encoded data removed]",
      "text/plain": [
       "<matplotlib.figure.Figure at 0x10f5d23c8>"
      ]
     },
     "metadata": {},
     "output_type": "display_data"
    }
   ],
   "source": [
    "import numpy as np\n",
    "import matplotlib.pyplot as plt\n",
    "import seaborn \n",
    "\n",
    "from pylab import rcParams, axes\n",
    "\n",
    "rcParams['legend.frameon'] = False\n",
    "rcParams['figure.figsize'] = 20, 10\n",
    "rcParams['legend.fontsize'] = 30\n",
    "rcParams['ytick.labelsize'] = 40\n",
    "rcParams['xtick.labelsize'] = 40\n",
    "rcParams['axes.grid'] = False\n",
    "seaborn.set_style('white')\n",
    "\n",
    "\n",
    "n_groups = 3\n",
    "\n",
    "spearman_999 = (0.29, 0.28, 0.2)\n",
    "pvalue_999 = (0.19, 0.19, 0.36)\n",
    "\n",
    "spearman_965 = (0.28, 0.39, 0.28)\n",
    "pvalue_965 = (0.23, 0.08, 0.02)\n",
    "\n",
    "spearman_hj = (0.14, 0.12, 0.6)\n",
    "pvalue_hj = (0.68, 0.53, 0.05)\n",
    "\n",
    "fig, ax = plt.subplots()\n",
    "\n",
    "index = np.arange(n_groups)\n",
    "bar_width = 0.25\n",
    "\n",
    "opacity = 0.4\n",
    "error_config = {'ecolor': '0.3'}\n",
    "\n",
    "rects1 = plt.bar(index, spearman_999, bar_width,\n",
    "                 alpha=opacity,\n",
    "                 color='b',\n",
    "                 yerr=pvalue_999,\n",
    "                 error_kw=error_config,\n",
    "                 label='RuSimLex999')\n",
    "\n",
    "rects2 = plt.bar(index + bar_width, spearman_965, bar_width,\n",
    "                 alpha=opacity,\n",
    "                 color='r',\n",
    "                 yerr=pvalue_965,\n",
    "                 error_kw=error_config,\n",
    "                 label='RuSimLex965')\n",
    "\n",
    "rects3 = plt.bar(index + bar_width*2, spearman_hj, bar_width,\n",
    "                 alpha=opacity,\n",
    "                 color='g',\n",
    "                 yerr=pvalue_hj,\n",
    "                 error_kw=error_config,\n",
    "                 label='HJWP')\n",
    "\n",
    "plt.xticks(index + bar_width, ('GV/HJ', 'GV/DV', 'DV/HJ'))\n",
    "plt.legend()\n",
    "\n",
    "plt.tight_layout()\n",
    "plt.show();\n",
    "plt.savefig('plot.png')"
   ]
  }
 ],
 "metadata": {
  "kernelspec": {
   "display_name": "Python 3",
   "language": "python",
   "name": "python3"
  },
  "language_info": {
   "codemirror_mode": {
    "name": "ipython",
    "version": 3
   },
   "file_extension": ".py",
   "mimetype": "text/x-python",
   "name": "python",
   "nbconvert_exporter": "python",
   "pygments_lexer": "ipython3",
   "version": "3.6.1"
  }
 },
 "nbformat": 4,
 "nbformat_minor": 2
}
